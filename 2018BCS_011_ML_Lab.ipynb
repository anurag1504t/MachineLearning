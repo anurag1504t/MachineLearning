{
  "nbformat": 4,
  "nbformat_minor": 0,
  "metadata": {
    "colab": {
      "name": "2018BCS-011-ML-Lab",
      "provenance": [],
      "authorship_tag": "ABX9TyNxGdGrifDuK2mQqgqjJ679",
      "include_colab_link": true
    },
    "kernelspec": {
      "name": "python3",
      "display_name": "Python 3"
    }
  },
  "cells": [
    {
      "cell_type": "markdown",
      "metadata": {
        "id": "view-in-github",
        "colab_type": "text"
      },
      "source": [
        "<a href=\"https://colab.research.google.com/github/anurag1504t/MachineLearning/blob/main/2018BCS_011_ML_Lab.ipynb\" target=\"_parent\"><img src=\"https://colab.research.google.com/assets/colab-badge.svg\" alt=\"Open In Colab\"/></a>"
      ]
    },
    {
      "cell_type": "markdown",
      "metadata": {
        "id": "m-3nehHoFdYF"
      },
      "source": [
        "# ML Lab Assignment - 1"
      ]
    },
    {
      "cell_type": "code",
      "metadata": {
        "id": "f56eCHZSd_iq"
      },
      "source": [
        "# Several helpful packages to load in \r\n",
        "import numpy as np;\r\n",
        "import matplotlib.pyplot as plt;\r\n",
        "import math;\r\n",
        "from random import randrange\r\n",
        "\r\n",
        "# Global variables\r\n",
        "n=20;             # No of points in Dataset\r\n",
        "xpoints=[];       # Independent \r\n",
        "ypoints=[];       # Dependent"
      ],
      "execution_count": null,
      "outputs": []
    },
    {
      "cell_type": "markdown",
      "metadata": {
        "id": "Zc55mm87F67V"
      },
      "source": [
        "## Training Dataset"
      ]
    },
    {
      "cell_type": "code",
      "metadata": {
        "colab": {
          "base_uri": "https://localhost:8080/"
        },
        "id": "IA8Z560-0DSG",
        "outputId": "424a9a7a-5ec1-4938-898b-1685ebb67031"
      },
      "source": [
        "# Gaussian Noise Generation\r\n",
        "noise=np.random.normal(0,1,n);\r\n",
        "print(noise)"
      ],
      "execution_count": null,
      "outputs": [
        {
          "output_type": "stream",
          "text": [
            "[ 0.42856329  0.07713013  0.21869637  1.5214245  -0.52281194 -0.15694554\n",
            " -0.12528184  0.19239826 -0.1183072   0.70431708 -0.07191924  0.63146333\n",
            " -0.06720386 -0.30460683  0.48371231 -1.17651312  1.23538969 -1.19480096\n",
            "  1.35955607 -0.26894039]\n"
          ],
          "name": "stdout"
        }
      ]
    },
    {
      "cell_type": "code",
      "metadata": {
        "id": "rmb9SgiX0WPN"
      },
      "source": [
        "# Generation of Random Dataset. y = sin(x) + noise\r\n",
        "for i in range(0,n):\r\n",
        "    x=randrange(0,n+1)*2*math.pi/n;\r\n",
        "    xpoints.append(x);\r\n",
        "    ypoints.append((math.sin(x)+noise[i]));\r\n",
        "\r\n",
        "xpoints = np.array(xpoints)\r\n",
        "ypoints = np.array(ypoints)\r\n",
        "\r\n",
        "xpoints = xpoints.reshape(20,1)\r\n",
        "ypoints = ypoints.reshape(20,1)"
      ],
      "execution_count": null,
      "outputs": []
    },
    {
      "cell_type": "code",
      "metadata": {
        "colab": {
          "base_uri": "https://localhost:8080/"
        },
        "id": "Cc3XjJXs1bQS",
        "outputId": "64016ba2-2176-425c-d0b3-b8eac2429188"
      },
      "source": [
        "print('Randomly Generated Dataset with 20 points')\r\n",
        "print('X | Y');\r\n",
        "for i in range(0,n):\r\n",
        "  print(xpoints[i] , ' | ' , ypoints[i]);"
      ],
      "execution_count": null,
      "outputs": [
        {
          "output_type": "stream",
          "text": [
            "Randomly Generated Dataset with 20 points\n",
            "X | Y\n",
            "[3.76991118]  |  [-0.15922196]\n",
            "[0.31415927]  |  [0.38614713]\n",
            "[1.25663706]  |  [1.16975289]\n",
            "[2.51327412]  |  [2.10920975]\n",
            "[1.88495559]  |  [0.42824457]\n",
            "[2.19911486]  |  [0.65207146]\n",
            "[5.02654825]  |  [-1.07633836]\n",
            "[4.08407045]  |  [-0.61661874]\n",
            "[1.88495559]  |  [0.83274931]\n",
            "[5.34070751]  |  [-0.10469992]\n",
            "[2.51327412]  |  [0.51586601]\n",
            "[0.31415927]  |  [0.94048032]\n",
            "[2.82743339]  |  [0.24181313]\n",
            "[4.39822972]  |  [-1.25566335]\n",
            "[3.14159265]  |  [0.48371231]\n",
            "[4.08407045]  |  [-1.98553012]\n",
            "[4.08407045]  |  [0.4263727]\n",
            "[4.39822972]  |  [-2.14585747]\n",
            "[4.71238898]  |  [0.35955607]\n",
            "[5.02654825]  |  [-1.21999691]\n"
          ],
          "name": "stdout"
        }
      ]
    },
    {
      "cell_type": "code",
      "metadata": {
        "colab": {
          "base_uri": "https://localhost:8080/",
          "height": 295
        },
        "id": "odIKlMiz2jiM",
        "outputId": "d2b1aca0-dc59-4c52-be62-64548ca9b302"
      },
      "source": [
        "# Plot of Dataset\r\n",
        "plt.plot(xpoints,ypoints,'bo');\r\n",
        "plt.xlabel('x [0, 2*pi]');\r\n",
        "plt.ylabel('y = sin(x) + noise');\r\n",
        "plt.title('Training Dataset');\r\n",
        "plt.show()"
      ],
      "execution_count": null,
      "outputs": [
        {
          "output_type": "display_data",
          "data": {
            "image/png": "[encoded data removed]",
            "text/plain": [
              "<Figure size 432x288 with 1 Axes>"
            ]
          },
          "metadata": {
            "tags": [],
            "needs_background": "light"
          }
        }
      ]
    },
    {
      "cell_type": "markdown",
      "metadata": {
        "id": "9n3bQPARzVgk"
      },
      "source": [
        "## Testing Dataset"
      ]
    },
    {
      "cell_type": "code",
      "metadata": {
        "id": "AwOmmOAszU6u"
      },
      "source": [
        "# Variables\r\n",
        "x_test = []\r\n",
        "y_test = []\r\n",
        "\r\n",
        "# Generation of Random Dataset. y = sin(x) \r\n",
        "for i in range(0,n):\r\n",
        "    x=randrange(0,n+1)*2*math.pi/n;\r\n",
        "    x_test.append(x);\r\n",
        "    y_test.append(math.sin(x));\r\n",
        "\r\n",
        "x_test = np.array(x_test)\r\n",
        "y_test = np.array(y_test)\r\n",
        "\r\n",
        "x_test = x_test.reshape(20,1)\r\n",
        "y_test = y_test.reshape(20,1)"
      ],
      "execution_count": null,
      "outputs": []
    },
    {
      "cell_type": "code",
      "metadata": {
        "colab": {
          "base_uri": "https://localhost:8080/",
          "height": 295
        },
        "id": "Xzv4c5Pn0LvY",
        "outputId": "3f29db8b-8fad-409c-e3fc-b87b69fa25e4"
      },
      "source": [
        "# Plot of Testing Dataset\r\n",
        "plt.plot(x_test,y_test,'bo');\r\n",
        "plt.xlabel('x 0 to 2*pi');\r\n",
        "plt.ylabel('y = sin(x)');\r\n",
        "plt.title('Testing dataset');\r\n",
        "plt.show()"
      ],
      "execution_count": null,
      "outputs": [
        {
          "output_type": "display_data",
          "data": {
            "image/png": "[encoded data removed]",
            "text/plain": [
              "<Figure size 432x288 with 1 Axes>"
            ]
          },
          "metadata": {
            "tags": [],
            "needs_background": "light"
          }
        }
      ]
    },
    {
      "cell_type": "markdown",
      "metadata": {
        "id": "JblqPvmb0cDz"
      },
      "source": [
        "## Simple Linear Regression\r\n",
        "\r\n"
      ]
    },
    {
      "cell_type": "code",
      "metadata": {
        "id": "qOmU4Gz60j5a"
      },
      "source": [
        "# Fitting Simple Linear Regression to the Training Dataset\r\n",
        "from sklearn.linear_model import LinearRegression\r\n",
        "regressor = LinearRegression()\r\n",
        "regressor.fit(xpoints, ypoints)\r\n",
        "\r\n",
        "# Predicting the Test set results\r\n",
        "y_pred = regressor.predict(x_test)"
      ],
      "execution_count": null,
      "outputs": []
    },
    {
      "cell_type": "code",
      "metadata": {
        "colab": {
          "base_uri": "https://localhost:8080/",
          "height": 295
        },
        "id": "Ygc3ggbkgQ2s",
        "outputId": "19fbb9dc-1474-49d1-b989-a61b1f8246b4"
      },
      "source": [
        "# Visualising the Training set results\r\n",
        "plt.scatter(xpoints, ypoints, color = 'red')\r\n",
        "plt.plot(xpoints, regressor.predict(xpoints), color = 'blue')\r\n",
        "plt.title(' sin(x) Vs x')\r\n",
        "plt.xlabel('x')\r\n",
        "plt.ylabel('sin(x)')\r\n",
        "plt.show()"
      ],
      "execution_count": null,
      "outputs": [
        {
          "output_type": "display_data",
          "data": {
            "image/png": "[encoded data removed]",
            "text/plain": [
              "<Figure size 432x288 with 1 Axes>"
            ]
          },
          "metadata": {
            "tags": [],
            "needs_background": "light"
          }
        }
      ]
    },
    {
      "cell_type": "code",
      "metadata": {
        "colab": {
          "base_uri": "https://localhost:8080/",
          "height": 295
        },
        "id": "cExOvcV3g9-L",
        "outputId": "90cc8dc7-9ae1-4216-e3b2-b74b64e25f25"
      },
      "source": [
        "# Visualising the Test set results\r\n",
        "plt.scatter(x_test, y_test, color = 'red')\r\n",
        "plt.plot(xpoints, regressor.predict(xpoints), color = 'blue')\r\n",
        "plt.title(' sin(x) Vs x')\r\n",
        "plt.xlabel('x')\r\n",
        "plt.ylabel('sin(x)')\r\n",
        "plt.show()"
      ],
      "execution_count": null,
      "outputs": [
        {
          "output_type": "display_data",
          "data": {
            "image/png": "[encoded data removed]",
            "text/plain": [
              "<Figure size 432x288 with 1 Axes>"
            ]
          },
          "metadata": {
            "tags": [],
            "needs_background": "light"
          }
        }
      ]
    },
    {
      "cell_type": "code",
      "metadata": {
        "colab": {
          "base_uri": "https://localhost:8080/"
        },
        "id": "dl8aTyMa60Mo",
        "outputId": "41e4c68c-de64-4899-a5d0-54f7ce9582f9"
      },
      "source": [
        "# Mean Squared Error\r\n",
        "from sklearn.metrics import mean_squared_error\r\n",
        "mean_squared_error(y_test, y_pred)"
      ],
      "execution_count": null,
      "outputs": [
        {
          "output_type": "execute_result",
          "data": {
            "text/plain": [
              "0.35285942425195926"
            ]
          },
          "metadata": {
            "tags": []
          },
          "execution_count": 192
        }
      ]
    },
    {
      "cell_type": "markdown",
      "metadata": {
        "id": "ZU8QGae079Fi"
      },
      "source": [
        "## Multiple Linear Regression"
      ]
    },
    {
      "cell_type": "markdown",
      "metadata": {
        "id": "pJZf2Qpdk6oE"
      },
      "source": [
        "### Training Data"
      ]
    },
    {
      "cell_type": "code",
      "metadata": {
        "id": "D_hozj7Y8Dpz"
      },
      "source": [
        "# Variable Declarations\r\n",
        "x1_train = xpoints        # First Independent Variable\r\n",
        "x2_train = []             # Second Independent Variable\r\n",
        "ym_train = []              # Dependent Variable\r\n",
        "\r\n",
        "# Generation of Random Dataset. y = sin(x1) + sin(x2) + noise\r\n",
        "for i in range(0,n):\r\n",
        "    x=randrange(0,n+1)*2*math.pi/n;\r\n",
        "    x2_train.append(x);\r\n",
        "    ym_train.append((math.sin(x) + math.sin(x1_train[i]) + noise[i]));\r\n",
        "\r\n",
        "x2_train = np.array(x2_train)\r\n",
        "ym_train = np.array(ym_train)\r\n",
        "\r\n",
        "x2_train = x2_train.reshape(20,1)\r\n",
        "ym_train = ym_train.reshape(20,1)\r\n",
        "\r\n",
        "xm_train = np.column_stack((x1_train, x2_train))"
      ],
      "execution_count": null,
      "outputs": []
    },
    {
      "cell_type": "code",
      "metadata": {
        "colab": {
          "base_uri": "https://localhost:8080/"
        },
        "id": "8BAz2BarhjoI",
        "outputId": "495d33ac-b6e5-41a5-d93e-699fd2b7aa90"
      },
      "source": [
        "xm_train"
      ],
      "execution_count": null,
      "outputs": [
        {
          "output_type": "execute_result",
          "data": {
            "text/plain": [
              "array([[3.76991118, 5.96902604],\n",
              "       [0.31415927, 5.96902604],\n",
              "       [1.25663706, 3.14159265],\n",
              "       [2.51327412, 0.62831853],\n",
              "       [1.88495559, 5.34070751],\n",
              "       [2.19911486, 0.        ],\n",
              "       [5.02654825, 5.02654825],\n",
              "       [4.08407045, 1.25663706],\n",
              "       [1.88495559, 3.14159265],\n",
              "       [5.34070751, 1.57079633],\n",
              "       [2.51327412, 0.9424778 ],\n",
              "       [0.31415927, 2.82743339],\n",
              "       [2.82743339, 0.31415927],\n",
              "       [4.39822972, 2.51327412],\n",
              "       [3.14159265, 4.39822972],\n",
              "       [4.08407045, 2.51327412],\n",
              "       [4.08407045, 3.45575192],\n",
              "       [4.39822972, 6.28318531],\n",
              "       [4.71238898, 2.19911486],\n",
              "       [5.02654825, 5.96902604]])"
            ]
          },
          "metadata": {
            "tags": []
          },
          "execution_count": 194
        }
      ]
    },
    {
      "cell_type": "markdown",
      "metadata": {
        "id": "TWGLKs5qlAbI"
      },
      "source": [
        "### Testing Dataset"
      ]
    },
    {
      "cell_type": "code",
      "metadata": {
        "id": "4z3PgDXhl_6u"
      },
      "source": [
        "# Variable Declarations\r\n",
        "x1_test = []        # First Independent Variable\r\n",
        "x2_test = []             # Second Independent Variable\r\n",
        "ym_test = []              # Dependent Variable\r\n",
        "\r\n",
        "# Generation of Random Dataset. y = sin(x1) + sin(x2) \r\n",
        "for i in range(0,n):\r\n",
        "    x1=randrange(0,n+1)*2*math.pi/n\r\n",
        "    x2=randrange(0,n+1)*2*math.pi/n\r\n",
        "    x1_test.append(x1)\r\n",
        "    x2_test.append(x2)\r\n",
        "    ym_test.append((math.sin(x1) + math.sin(x2)))\r\n",
        "\r\n",
        "xm_test = np.column_stack((x1_train, x2_train))"
      ],
      "execution_count": null,
      "outputs": []
    },
    {
      "cell_type": "code",
      "metadata": {
        "colab": {
          "base_uri": "https://localhost:8080/"
        },
        "id": "YVaGfuLJmgDV",
        "outputId": "00e3e1bf-b430-4ba4-90f2-37faa5737ab5"
      },
      "source": [
        "xm_test"
      ],
      "execution_count": null,
      "outputs": [
        {
          "output_type": "execute_result",
          "data": {
            "text/plain": [
              "array([[3.76991118, 5.96902604],\n",
              "       [0.31415927, 5.96902604],\n",
              "       [1.25663706, 3.14159265],\n",
              "       [2.51327412, 0.62831853],\n",
              "       [1.88495559, 5.34070751],\n",
              "       [2.19911486, 0.        ],\n",
              "       [5.02654825, 5.02654825],\n",
              "       [4.08407045, 1.25663706],\n",
              "       [1.88495559, 3.14159265],\n",
              "       [5.34070751, 1.57079633],\n",
              "       [2.51327412, 0.9424778 ],\n",
              "       [0.31415927, 2.82743339],\n",
              "       [2.82743339, 0.31415927],\n",
              "       [4.39822972, 2.51327412],\n",
              "       [3.14159265, 4.39822972],\n",
              "       [4.08407045, 2.51327412],\n",
              "       [4.08407045, 3.45575192],\n",
              "       [4.39822972, 6.28318531],\n",
              "       [4.71238898, 2.19911486],\n",
              "       [5.02654825, 5.96902604]])"
            ]
          },
          "metadata": {
            "tags": []
          },
          "execution_count": 196
        }
      ]
    },
    {
      "cell_type": "markdown",
      "metadata": {
        "id": "y0wqgAeHmtZz"
      },
      "source": [
        "### Fitting Model"
      ]
    },
    {
      "cell_type": "code",
      "metadata": {
        "colab": {
          "base_uri": "https://localhost:8080/"
        },
        "id": "yAPJzFGJkrNc",
        "outputId": "ad1ec3a9-02ff-44f9-859e-c502bc19b3ce"
      },
      "source": [
        "# Fitting Multiple Linear Regression to the Training Dataset\r\n",
        "from sklearn.linear_model import LinearRegression\r\n",
        "regressor = LinearRegression()\r\n",
        "regressor.fit(xm_train, ym_train)"
      ],
      "execution_count": null,
      "outputs": [
        {
          "output_type": "execute_result",
          "data": {
            "text/plain": [
              "LinearRegression(copy_X=True, fit_intercept=True, n_jobs=None, normalize=False)"
            ]
          },
          "metadata": {
            "tags": []
          },
          "execution_count": 197
        }
      ]
    },
    {
      "cell_type": "code",
      "metadata": {
        "id": "EuY7LvB0nI2P"
      },
      "source": [
        "# Predicting the Test set results\r\n",
        "ym_pred = regressor.predict(xm_test)"
      ],
      "execution_count": null,
      "outputs": []
    },
    {
      "cell_type": "code",
      "metadata": {
        "colab": {
          "base_uri": "https://localhost:8080/"
        },
        "id": "hhaLfFcrncLh",
        "outputId": "269d932b-b9a1-43e2-8498-ee27be985575"
      },
      "source": [
        "# Mean Squared Error\r\n",
        "from sklearn.metrics import mean_squared_error\r\n",
        "mean_squared_error(ym_test, ym_pred)"
      ],
      "execution_count": null,
      "outputs": [
        {
          "output_type": "execute_result",
          "data": {
            "text/plain": [
              "1.5387814117675487"
            ]
          },
          "metadata": {
            "tags": []
          },
          "execution_count": 199
        }
      ]
    },
    {
      "cell_type": "markdown",
      "metadata": {
        "id": "X4VtECu68E1e"
      },
      "source": [
        "## Polynomial Regression of Degree M"
      ]
    },
    {
      "cell_type": "code",
      "metadata": {
        "colab": {
          "base_uri": "https://localhost:8080/"
        },
        "id": "KIy732JWs3Jo",
        "outputId": "17bfcbb9-13a0-40ec-a374-b4d262074fab"
      },
      "source": [
        "# Fitting Polynomial Regression to the dataset \r\n",
        "from sklearn.preprocessing import PolynomialFeatures \r\n",
        "  \r\n",
        "poly = PolynomialFeatures(degree = 3) \r\n",
        "x_poly = poly.fit_transform(xpoints) \r\n",
        "  \r\n",
        "poly.fit(x_poly, ypoints) \r\n",
        "lin2 = LinearRegression() \r\n",
        "lin2.fit(x_poly, ypoints)"
      ],
      "execution_count": 223,
      "outputs": [
        {
          "output_type": "execute_result",
          "data": {
            "text/plain": [
              "LinearRegression(copy_X=True, fit_intercept=True, n_jobs=None, normalize=False)"
            ]
          },
          "metadata": {
            "tags": []
          },
          "execution_count": 223
        }
      ]
    },
    {
      "cell_type": "code",
      "metadata": {
        "id": "SpECjbY272I0"
      },
      "source": [
        "# poly.fit_transform(xpoints)"
      ],
      "execution_count": 224,
      "outputs": []
    },
    {
      "cell_type": "code",
      "metadata": {
        "colab": {
          "base_uri": "https://localhost:8080/",
          "height": 295
        },
        "id": "FWnlA34nvGAp",
        "outputId": "d5a6da0c-b87d-4cc7-d9df-3dcb0de7a752"
      },
      "source": [
        "# Visualising the Polynomial Regression results \r\n",
        "plt.scatter(xpoints, ypoints, color = 'red') \r\n",
        "  \r\n",
        "plt.scatter(xpoints, lin2.predict(poly.fit_transform(xpoints)), color = 'blue')\r\n",
        "plt.plot(xpoints, lin2.predict(poly.fit_transform(xpoints)), color = 'green') \r\n",
        "plt.title('Polynomial Regression Result') \r\n",
        "plt.xlabel('x') \r\n",
        "plt.ylabel('sin(x)') \r\n",
        "  \r\n",
        "plt.show()"
      ],
      "execution_count": 225,
      "outputs": [
        {
          "output_type": "display_data",
          "data": {
            "image/png": "[encoded data removed]",
            "text/plain": [
              "<Figure size 432x288 with 1 Axes>"
            ]
          },
          "metadata": {
            "tags": [],
            "needs_background": "light"
          }
        }
      ]
    },
    {
      "cell_type": "code",
      "metadata": {
        "colab": {
          "base_uri": "https://localhost:8080/"
        },
        "id": "bcn8tiEVGgAH",
        "outputId": "2995d42c-430b-4f63-b2d6-16441c5e909d"
      },
      "source": [
        "mean_squared_error(ypoints,lin2.predict(poly.fit_transform(xpoints)))"
      ],
      "execution_count": null,
      "outputs": [
        {
          "output_type": "execute_result",
          "data": {
            "text/plain": [
              "0.5035526152318752"
            ]
          },
          "metadata": {
            "tags": []
          },
          "execution_count": 203
        }
      ]
    },
    {
      "cell_type": "markdown",
      "metadata": {
        "id": "2Ofim9ZO8PdM"
      },
      "source": [
        "## Ridge Regression"
      ]
    },
    {
      "cell_type": "code",
      "metadata": {
        "id": "OhEsxIkH8UYj"
      },
      "source": [
        "# Fitting Ridge Regression to the dataset \r\n",
        "from sklearn.linear_model import Ridge\r\n",
        "rr = Ridge(alpha=0.01)\r\n",
        "rr.fit(xpoints, ypoints) \r\n",
        "\r\n",
        "# Predicting the test set Results\r\n",
        "y_pred_rr= rr.predict(x_test)\r\n"
      ],
      "execution_count": null,
      "outputs": []
    },
    {
      "cell_type": "code",
      "metadata": {
        "colab": {
          "base_uri": "https://localhost:8080/"
        },
        "id": "ldvHf7jkHmJ4",
        "outputId": "4a4aa792-5b72-4c58-95fd-9cd7ceb2c081"
      },
      "source": [
        "# Visualising the Training set results\r\n",
        "plt.scatter(xpoints, ypoints, color = 'red')\r\n",
        "plt.plot(xpoints, rr.predict(xpoints), color = 'blue')\r\n",
        "plt.title('Ridge Regression')\r\n",
        "plt.xlabel('x')\r\n",
        "plt.ylabel('sin(x)')\r\n",
        "plt.show()"
      ],
      "execution_count": null,
      "outputs": [
        {
          "output_type": "display_data",
          "data": {
            "image/png": "[encoded data removed]",
            "text/plain": [
              "<Figure size 432x288 with 1 Axes>"
            ]
          },
          "metadata": {
            "tags": [],
            "needs_background": "light"
          }
        }
      ]
    },
    {
      "cell_type": "code",
      "metadata": {
        "colab": {
          "base_uri": "https://localhost:8080/"
        },
        "id": "J1VvyvT8H197",
        "outputId": "9fc9f2d8-a22b-4edb-bf25-76d30977b58e"
      },
      "source": [
        "# Visualising the Testing set results\r\n",
        "plt.scatter(x_test, y_test, color = 'red')\r\n",
        "plt.plot(xpoints, rr.predict(xpoints), color = 'blue')\r\n",
        "plt.title('Ridge Regression')\r\n",
        "plt.xlabel('x')\r\n",
        "plt.ylabel('sin(x)')\r\n",
        "plt.show()"
      ],
      "execution_count": null,
      "outputs": [
        {
          "output_type": "display_data",
          "data": {
            "image/png": "[encoded data removed]",
            "text/plain": [
              "<Figure size 432x288 with 1 Axes>"
            ]
          },
          "metadata": {
            "tags": [],
            "needs_background": "light"
          }
        }
      ]
    },
    {
      "cell_type": "code",
      "metadata": {
        "colab": {
          "base_uri": "https://localhost:8080/"
        },
        "id": "XvZm7gfvIFFl",
        "outputId": "019bceaa-acaf-4a28-ca82-937f35988382"
      },
      "source": [
        "# Mean Squared Error\r\n",
        "from sklearn.metrics import mean_squared_error\r\n",
        "mean_squared_error(y_test, y_pred_rr)"
      ],
      "execution_count": null,
      "outputs": [
        {
          "output_type": "execute_result",
          "data": {
            "text/plain": [
              "0.3527110627808227"
            ]
          },
          "metadata": {
            "tags": []
          },
          "execution_count": 207
        }
      ]
    },
    {
      "cell_type": "markdown",
      "metadata": {
        "id": "4UO3SKm58U76"
      },
      "source": [
        "## LASSO Regression"
      ]
    },
    {
      "cell_type": "code",
      "metadata": {
        "id": "04ws7FY78ZWI"
      },
      "source": [
        "# Fitting LASSO Regression to the dataset \r\n",
        "from sklearn.linear_model import Lasso\r\n",
        "model_lasso = Lasso(alpha=0.01)\r\n",
        "model_lasso.fit(xpoints, ypoints) \r\n",
        "\r\n",
        "# Predicting the test set Results\r\n",
        "y_pred_lasso= model_lasso.predict(x_test)\r\n"
      ],
      "execution_count": null,
      "outputs": []
    },
    {
      "cell_type": "code",
      "metadata": {
        "colab": {
          "base_uri": "https://localhost:8080/"
        },
        "id": "OKsl3su-I2SQ",
        "outputId": "cb9a2615-0eff-4fec-87ad-6462619811bb"
      },
      "source": [
        "# Visualising the Training set results\r\n",
        "plt.scatter(xpoints, ypoints, color = 'red')\r\n",
        "plt.plot(xpoints, model_lasso.predict(xpoints), color = 'blue')\r\n",
        "plt.title('Lasso Regression')\r\n",
        "plt.xlabel('x')\r\n",
        "plt.ylabel('sin(x)')\r\n",
        "plt.show()"
      ],
      "execution_count": null,
      "outputs": [
        {
          "output_type": "display_data",
          "data": {
            "image/png": "[encoded data removed]",
            "text/plain": [
              "<Figure size 432x288 with 1 Axes>"
            ]
          },
          "metadata": {
            "tags": [],
            "needs_background": "light"
          }
        }
      ]
    },
    {
      "cell_type": "code",
      "metadata": {
        "colab": {
          "base_uri": "https://localhost:8080/"
        },
        "id": "uiWypJ5rJA6l",
        "outputId": "e3bd71ae-9878-44a4-ff5b-b2ea3296bae2"
      },
      "source": [
        "# Visualising the Testing set results\r\n",
        "plt.scatter(x_test, y_test, color = 'red')\r\n",
        "plt.plot(xpoints, model_lasso.predict(xpoints), color = 'blue')\r\n",
        "plt.title('Lasso Regression')\r\n",
        "plt.xlabel('x')\r\n",
        "plt.ylabel('sin(x)')\r\n",
        "plt.show()"
      ],
      "execution_count": null,
      "outputs": [
        {
          "output_type": "display_data",
          "data": {
            "image/png": "[encoded data removed]",
            "text/plain": [
              "<Figure size 432x288 with 1 Axes>"
            ]
          },
          "metadata": {
            "tags": [],
            "needs_background": "light"
          }
        }
      ]
    },
    {
      "cell_type": "code",
      "metadata": {
        "colab": {
          "base_uri": "https://localhost:8080/"
        },
        "id": "q9pLiUI7JIN9",
        "outputId": "e5290388-9bc1-459c-fe52-435eada7afcc"
      },
      "source": [
        "# Mean Squared Error\r\n",
        "from sklearn.metrics import mean_squared_error\r\n",
        "mean_squared_error(y_test, y_pred_lasso)"
      ],
      "execution_count": null,
      "outputs": [
        {
          "output_type": "execute_result",
          "data": {
            "text/plain": [
              "0.346335957706666"
            ]
          },
          "metadata": {
            "tags": []
          },
          "execution_count": 211
        }
      ]
    },
    {
      "cell_type": "markdown",
      "metadata": {
        "id": "K5VwEdBq8ab_"
      },
      "source": [
        "## Elastic-Net Regression"
      ]
    },
    {
      "cell_type": "code",
      "metadata": {
        "id": "OlVOpMAy8frh"
      },
      "source": [
        "# Fitting ElasticNet Regression to the dataset\r\n",
        "from sklearn.linear_model import ElasticNet\r\n",
        "model_enet = ElasticNet(alpha = 0.01)\r\n",
        "model_enet.fit(xpoints, ypoints) \r\n",
        "\r\n",
        "# Predicting the test set Results\r\n",
        "y_pred_enet= model_enet.predict(x_test)"
      ],
      "execution_count": null,
      "outputs": []
    },
    {
      "cell_type": "code",
      "metadata": {
        "colab": {
          "base_uri": "https://localhost:8080/"
        },
        "id": "LbLm5eaeKb1t",
        "outputId": "feab3526-82be-45c1-d6f9-e90c94afa3bc"
      },
      "source": [
        "# Visualising the Training set results\r\n",
        "plt.scatter(xpoints, ypoints, color = 'red')\r\n",
        "plt.plot(xpoints, model_enet.predict(xpoints), color = 'blue')\r\n",
        "plt.title('ElasticNet Regression')\r\n",
        "plt.xlabel('x')\r\n",
        "plt.ylabel('sin(x)')\r\n",
        "plt.show()"
      ],
      "execution_count": null,
      "outputs": [
        {
          "output_type": "display_data",
          "data": {
            "image/png": "[encoded data removed]",
            "text/plain": [
              "<Figure size 432x288 with 1 Axes>"
            ]
          },
          "metadata": {
            "tags": [],
            "needs_background": "light"
          }
        }
      ]
    },
    {
      "cell_type": "code",
      "metadata": {
        "colab": {
          "base_uri": "https://localhost:8080/"
        },
        "id": "qp_aE6AZKm1u",
        "outputId": "dca5240e-b2c1-432f-ff54-bef27dbceeb2"
      },
      "source": [
        "# Visualising the Testing set results\r\n",
        "plt.scatter(x_test, y_test, color = 'red')\r\n",
        "plt.plot(xpoints, model_enet.predict(xpoints), color = 'blue')\r\n",
        "plt.title('ElasticNet Regression')\r\n",
        "plt.xlabel('x')\r\n",
        "plt.ylabel('sin(x)')\r\n",
        "plt.show()"
      ],
      "execution_count": null,
      "outputs": [
        {
          "output_type": "display_data",
          "data": {
            "image/png": "[encoded data removed]",
            "text/plain": [
              "<Figure size 432x288 with 1 Axes>"
            ]
          },
          "metadata": {
            "tags": [],
            "needs_background": "light"
          }
        }
      ]
    },
    {
      "cell_type": "code",
      "metadata": {
        "colab": {
          "base_uri": "https://localhost:8080/"
        },
        "id": "Kr1OsSmcKvOx",
        "outputId": "b3da4a77-f964-4af6-f725-176358a624d2"
      },
      "source": [
        "# Mean Squared Error\r\n",
        "from sklearn.metrics import mean_squared_error\r\n",
        "mean_squared_error(y_test, y_pred_enet)"
      ],
      "execution_count": null,
      "outputs": [
        {
          "output_type": "execute_result",
          "data": {
            "text/plain": [
              "0.34812556047594245"
            ]
          },
          "metadata": {
            "tags": []
          },
          "execution_count": 215
        }
      ]
    },
    {
      "cell_type": "markdown",
      "metadata": {
        "id": "lG5gtEEr8ggM"
      },
      "source": [
        "## Bridge Regression"
      ]
    },
    {
      "cell_type": "code",
      "metadata": {
        "id": "wbV5ooT98kmB"
      },
      "source": [
        ""
      ],
      "execution_count": null,
      "outputs": []
    }
  ]
}