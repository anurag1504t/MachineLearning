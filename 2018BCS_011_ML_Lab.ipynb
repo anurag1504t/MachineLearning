{
  "nbformat": 4,
  "nbformat_minor": 0,
  "metadata": {
    "colab": {
      "name": "2018BCS-011-ML-Lab",
      "provenance": [],
      "authorship_tag": "ABX9TyPj+LYycIX5zS3j3S+9arI0",
      "include_colab_link": true
    },
    "kernelspec": {
      "name": "python3",
      "display_name": "Python 3"
    }
  },
  "cells": [
    {
      "cell_type": "markdown",
      "metadata": {
        "id": "view-in-github",
        "colab_type": "text"
      },
      "source": [
        "<a href=\"https://colab.research.google.com/github/anurag1504t/MachineLearning/blob/main/2018BCS_011_ML_Lab.ipynb\" target=\"_parent\"><img src=\"https://colab.research.google.com/assets/colab-badge.svg\" alt=\"Open In Colab\"/></a>"
      ]
    },
    {
      "cell_type": "markdown",
      "metadata": {
        "id": "m-3nehHoFdYF"
      },
      "source": [
        "# ML Lab Assignment - 1"
      ]
    },
    {
      "cell_type": "code",
      "metadata": {
        "id": "f56eCHZSd_iq"
      },
      "source": [
        "# Several helpful packages to load in \r\n",
        "import numpy as np;\r\n",
        "import matplotlib.pyplot as plt;\r\n",
        "import math;\r\n",
        "from random import randrange\r\n",
        "\r\n",
        "# Global variables\r\n",
        "n=20;             # No of points in Dataset\r\n",
        "x_train=[];       # Independent \r\n",
        "y_train=[];       # Dependent"
      ],
      "execution_count": 135,
      "outputs": []
    },
    {
      "cell_type": "markdown",
      "metadata": {
        "id": "Zc55mm87F67V"
      },
      "source": [
        "## Training Dataset"
      ]
    },
    {
      "cell_type": "code",
      "metadata": {
        "colab": {
          "base_uri": "https://localhost:8080/"
        },
        "id": "IA8Z560-0DSG",
        "outputId": "0cda6cf1-9b49-41b4-fb88-ca0ae289ff42"
      },
      "source": [
        "# Gaussian Noise Generation\r\n",
        "noise=np.random.normal(0,1,n);\r\n",
        "print(noise)"
      ],
      "execution_count": 136,
      "outputs": [
        {
          "output_type": "stream",
          "text": [
            "[-0.54532387  1.31575954 -0.5438119  -0.40830181  0.02911525 -0.92325809\n",
            " -0.96841316 -0.22804042  0.69652298 -1.61225083  0.43390019  0.50131683\n",
            "  0.31839993 -1.07272556 -0.37858178 -0.17317566  0.35934413 -0.63502592\n",
            "  2.62593135 -0.97647072]\n"
          ],
          "name": "stdout"
        }
      ]
    },
    {
      "cell_type": "code",
      "metadata": {
        "id": "rmb9SgiX0WPN"
      },
      "source": [
        "# Generation of Random Dataset. y = sin(x) + noise\r\n",
        "for i in range(0,n):\r\n",
        "    x=randrange(0,n+1)*2*math.pi/n;\r\n",
        "    x_train.append(x);\r\n",
        "    y_train.append((math.sin(x)+noise[i]));\r\n",
        "\r\n",
        "x_train = np.array(x_train)\r\n",
        "y_train = np.array(y_train)\r\n",
        "\r\n",
        "x_train = x_train.reshape(20,1)\r\n",
        "y_train = y_train.reshape(20,1)"
      ],
      "execution_count": 137,
      "outputs": []
    },
    {
      "cell_type": "code",
      "metadata": {
        "colab": {
          "base_uri": "https://localhost:8080/"
        },
        "id": "Cc3XjJXs1bQS",
        "outputId": "38b2a753-2033-44b8-b6a0-5169c2a32675"
      },
      "source": [
        "print('Randomly Generated Dataset with 20 points')\r\n",
        "print('X | Y');\r\n",
        "for i in range(0,n):\r\n",
        "  print(x_train[i] , ' | ' , y_train[i]);"
      ],
      "execution_count": 138,
      "outputs": [
        {
          "output_type": "stream",
          "text": [
            "Randomly Generated Dataset with 20 points\n",
            "X | Y\n",
            "[5.34070751]  |  [-1.35434087]\n",
            "[5.96902604]  |  [1.00674254]\n",
            "[2.51327412]  |  [0.04397335]\n",
            "[3.14159265]  |  [-0.40830181]\n",
            "[6.28318531]  |  [0.02911525]\n",
            "[5.65486678]  |  [-1.51104334]\n",
            "[0.31415927]  |  [-0.65939616]\n",
            "[5.02654825]  |  [-1.17909693]\n",
            "[0.31415927]  |  [1.00553997]\n",
            "[0.31415927]  |  [-1.30323383]\n",
            "[0.62831853]  |  [1.02168545]\n",
            "[2.19911486]  |  [1.31033383]\n",
            "[5.96902604]  |  [0.00938294]\n",
            "[3.45575192]  |  [-1.38174256]\n",
            "[2.82743339]  |  [-0.06956479]\n",
            "[2.82743339]  |  [0.13584134]\n",
            "[4.39822972]  |  [-0.59171239]\n",
            "[6.28318531]  |  [-0.63502592]\n",
            "[5.65486678]  |  [2.0381461]\n",
            "[0.]  |  [-0.97647072]\n"
          ],
          "name": "stdout"
        }
      ]
    },
    {
      "cell_type": "code",
      "metadata": {
        "colab": {
          "base_uri": "https://localhost:8080/",
          "height": 295
        },
        "id": "odIKlMiz2jiM",
        "outputId": "33da9278-3810-40e0-a8dd-442c52ea75d3"
      },
      "source": [
        "# Plot of Dataset\r\n",
        "plt.plot(x_train,y_train,'bo');\r\n",
        "plt.xlabel('x [0, 2*pi]');\r\n",
        "plt.ylabel('y = sin(x) + noise');\r\n",
        "plt.title('Training Dataset');\r\n",
        "plt.show()"
      ],
      "execution_count": 139,
      "outputs": [
        {
          "output_type": "display_data",
          "data": {
            "image/png": "[encoded data removed]",
            "text/plain": [
              "<Figure size 432x288 with 1 Axes>"
            ]
          },
          "metadata": {
            "tags": [],
            "needs_background": "light"
          }
        }
      ]
    },
    {
      "cell_type": "markdown",
      "metadata": {
        "id": "9n3bQPARzVgk"
      },
      "source": [
        "## Testing Dataset"
      ]
    },
    {
      "cell_type": "code",
      "metadata": {
        "id": "AwOmmOAszU6u"
      },
      "source": [
        "# Variables\r\n",
        "x_test = []\r\n",
        "y_test = []\r\n",
        "\r\n",
        "# Generation of Random Dataset. y = sin(x) \r\n",
        "for i in range(0,n):\r\n",
        "    x=randrange(0,n+1)*2*math.pi/n;\r\n",
        "    x_test.append(x);\r\n",
        "    y_test.append(math.sin(x));\r\n",
        "\r\n",
        "x_test = np.array(x_test)\r\n",
        "y_test = np.array(y_test)\r\n",
        "\r\n",
        "x_test = x_test.reshape(20,1)\r\n",
        "y_test = y_test.reshape(20,1)"
      ],
      "execution_count": 140,
      "outputs": []
    },
    {
      "cell_type": "code",
      "metadata": {
        "colab": {
          "base_uri": "https://localhost:8080/",
          "height": 295
        },
        "id": "Xzv4c5Pn0LvY",
        "outputId": "92ddd541-4f01-4cdb-be9a-74bb843c51a4"
      },
      "source": [
        "# Plot of Testing Dataset\r\n",
        "plt.plot(x_test,y_test,'bo');\r\n",
        "plt.xlabel('x 0 to 2*pi');\r\n",
        "plt.ylabel('y = sin(x)');\r\n",
        "plt.title('Testing dataset');\r\n",
        "plt.show()"
      ],
      "execution_count": 141,
      "outputs": [
        {
          "output_type": "display_data",
          "data": {
            "image/png": "[encoded data removed]",
            "text/plain": [
              "<Figure size 432x288 with 1 Axes>"
            ]
          },
          "metadata": {
            "tags": [],
            "needs_background": "light"
          }
        }
      ]
    },
    {
      "cell_type": "markdown",
      "metadata": {
        "id": "JblqPvmb0cDz"
      },
      "source": [
        "## Simple Linear Regression\r\n",
        "\r\n"
      ]
    },
    {
      "cell_type": "code",
      "metadata": {
        "id": "qOmU4Gz60j5a"
      },
      "source": [
        "# Fitting Simple Linear Regression to the Training Dataset\r\n",
        "from sklearn.linear_model import LinearRegression\r\n",
        "regressor = LinearRegression()\r\n",
        "regressor.fit(x_train, y_train)\r\n",
        "\r\n",
        "# Predicting the Test set results\r\n",
        "y_pred = regressor.predict(x_test)"
      ],
      "execution_count": 142,
      "outputs": []
    },
    {
      "cell_type": "code",
      "metadata": {
        "colab": {
          "base_uri": "https://localhost:8080/",
          "height": 295
        },
        "id": "Ygc3ggbkgQ2s",
        "outputId": "6a1b44fe-41cb-455a-b983-70ffdc02c6b3"
      },
      "source": [
        "# Visualising the Training set results\r\n",
        "plt.scatter(x_train, y_train, color = 'red')\r\n",
        "plt.plot(x_train, regressor.predict(x_train), color = 'blue')\r\n",
        "plt.title(' sin(x) Vs x')\r\n",
        "plt.xlabel('x')\r\n",
        "plt.ylabel('sin(x)')\r\n",
        "plt.show()"
      ],
      "execution_count": 143,
      "outputs": [
        {
          "output_type": "display_data",
          "data": {
            "image/png": "[encoded data removed]",
            "text/plain": [
              "<Figure size 432x288 with 1 Axes>"
            ]
          },
          "metadata": {
            "tags": [],
            "needs_background": "light"
          }
        }
      ]
    },
    {
      "cell_type": "code",
      "metadata": {
        "colab": {
          "base_uri": "https://localhost:8080/",
          "height": 295
        },
        "id": "cExOvcV3g9-L",
        "outputId": "c2b75ceb-1ee7-4226-bc56-91d89f84cf00"
      },
      "source": [
        "# Visualising the Test set results\r\n",
        "plt.scatter(x_test, y_test, color = 'red')\r\n",
        "plt.plot(x_train, regressor.predict(x_train), color = 'blue')\r\n",
        "plt.title(' sin(x) Vs x')\r\n",
        "plt.xlabel('x')\r\n",
        "plt.ylabel('sin(x)')\r\n",
        "plt.show()"
      ],
      "execution_count": 144,
      "outputs": [
        {
          "output_type": "display_data",
          "data": {
            "image/png": "[encoded data removed]",
            "text/plain": [
              "<Figure size 432x288 with 1 Axes>"
            ]
          },
          "metadata": {
            "tags": [],
            "needs_background": "light"
          }
        }
      ]
    },
    {
      "cell_type": "code",
      "metadata": {
        "colab": {
          "base_uri": "https://localhost:8080/"
        },
        "id": "dl8aTyMa60Mo",
        "outputId": "2a4bc40f-81f5-4e04-e6f6-90632fa61efb"
      },
      "source": [
        "# Mean Squared Error\r\n",
        "from sklearn.metrics import mean_squared_error\r\n",
        "mean_squared_error(y_test, y_pred)"
      ],
      "execution_count": 145,
      "outputs": [
        {
          "output_type": "execute_result",
          "data": {
            "text/plain": [
              "0.5848085442553519"
            ]
          },
          "metadata": {
            "tags": []
          },
          "execution_count": 145
        }
      ]
    },
    {
      "cell_type": "markdown",
      "metadata": {
        "id": "ZU8QGae079Fi"
      },
      "source": [
        "## Multiple Linear Regression"
      ]
    },
    {
      "cell_type": "markdown",
      "metadata": {
        "id": "pJZf2Qpdk6oE"
      },
      "source": [
        "### Training Data"
      ]
    },
    {
      "cell_type": "code",
      "metadata": {
        "id": "D_hozj7Y8Dpz"
      },
      "source": [
        "# Variable Declarations\r\n",
        "x1_train = []        # First Independent Variable\r\n",
        "x2_train = []             # Second Independent Variable\r\n",
        "ym_train = []              # Dependent Variable\r\n",
        "\r\n",
        "# Generation of Random Dataset. y = sin(x1) + sin(x2) + noise\r\n",
        "for i in range(0,n):\r\n",
        "    x1=randrange(0,n+1)*2*math.pi/n\r\n",
        "    x2=randrange(0,n+1)*2*math.pi/n\r\n",
        "    x1_train.append(x1);\r\n",
        "    x2_train.append(x2);\r\n",
        "    ym_train.append((math.sin(x1) + math.sin(x2) + noise[i]));\r\n",
        "\r\n",
        "x1_train = np.array(x1_train)\r\n",
        "x2_train = np.array(x2_train)\r\n",
        "ym_train = np.array(ym_train)\r\n",
        "\r\n",
        "x1_train = x1_train.reshape(20,1)\r\n",
        "x2_train = x2_train.reshape(20,1)\r\n",
        "ym_train = ym_train.reshape(20,1)\r\n",
        "\r\n",
        "xm_train = np.column_stack((x1_train, x2_train))"
      ],
      "execution_count": 146,
      "outputs": []
    },
    {
      "cell_type": "code",
      "metadata": {
        "colab": {
          "base_uri": "https://localhost:8080/"
        },
        "id": "8BAz2BarhjoI",
        "outputId": "a73f1f98-2ac9-4dfd-9742-0f0787c7ed89"
      },
      "source": [
        "xm_train"
      ],
      "execution_count": 147,
      "outputs": [
        {
          "output_type": "execute_result",
          "data": {
            "text/plain": [
              "array([[5.96902604, 5.34070751],\n",
              "       [4.71238898, 1.25663706],\n",
              "       [0.62831853, 1.88495559],\n",
              "       [2.51327412, 0.31415927],\n",
              "       [3.45575192, 5.96902604],\n",
              "       [5.65486678, 4.08407045],\n",
              "       [0.        , 2.51327412],\n",
              "       [0.9424778 , 0.31415927],\n",
              "       [0.        , 3.76991118],\n",
              "       [3.45575192, 4.39822972],\n",
              "       [5.34070751, 2.82743339],\n",
              "       [5.65486678, 3.76991118],\n",
              "       [5.02654825, 0.        ],\n",
              "       [0.        , 3.76991118],\n",
              "       [5.34070751, 0.31415927],\n",
              "       [4.71238898, 0.31415927],\n",
              "       [1.25663706, 5.34070751],\n",
              "       [3.14159265, 3.45575192],\n",
              "       [3.76991118, 4.39822972],\n",
              "       [0.31415927, 6.28318531]])"
            ]
          },
          "metadata": {
            "tags": []
          },
          "execution_count": 147
        }
      ]
    },
    {
      "cell_type": "code",
      "metadata": {
        "colab": {
          "base_uri": "https://localhost:8080/",
          "height": 295
        },
        "id": "a5fY0xvCk4sk",
        "outputId": "022e1d9c-3f0e-4950-d943-24c7a8ca5969"
      },
      "source": [
        "# Plot of Training Dataset\r\n",
        "plt.plot(x2_train,ym_train,'bo');\r\n",
        "plt.xlabel('x = [0,2π]');\r\n",
        "plt.ylabel('y = sin(x) + noise');\r\n",
        "plt.title('Training dataset2');\r\n",
        "plt.show()"
      ],
      "execution_count": 148,
      "outputs": [
        {
          "output_type": "display_data",
          "data": {
            "image/png": "[encoded data removed]",
            "text/plain": [
              "<Figure size 432x288 with 1 Axes>"
            ]
          },
          "metadata": {
            "tags": [],
            "needs_background": "light"
          }
        }
      ]
    },
    {
      "cell_type": "markdown",
      "metadata": {
        "id": "TWGLKs5qlAbI"
      },
      "source": [
        "### Testing Dataset"
      ]
    },
    {
      "cell_type": "code",
      "metadata": {
        "id": "4z3PgDXhl_6u"
      },
      "source": [
        "# Variable Declarations\r\n",
        "x1_test = []        # First Independent Variable\r\n",
        "x2_test = []             # Second Independent Variable\r\n",
        "ym_test = []              # Dependent Variable\r\n",
        "\r\n",
        "# Generation of Random Dataset. y = sin(x1) + sin(x2) \r\n",
        "for i in range(0,n):\r\n",
        "    x1=randrange(0,n+1)*2*math.pi/n\r\n",
        "    x2=randrange(0,n+1)*2*math.pi/n\r\n",
        "    x1_test.append(x1)\r\n",
        "    x2_test.append(x2)\r\n",
        "    ym_test.append((math.sin(x1) + math.sin(x2)))\r\n",
        "\r\n",
        "xm_test = np.column_stack((x1_test, x2_test))"
      ],
      "execution_count": 149,
      "outputs": []
    },
    {
      "cell_type": "code",
      "metadata": {
        "colab": {
          "base_uri": "https://localhost:8080/"
        },
        "id": "YVaGfuLJmgDV",
        "outputId": "66dc33c2-d7bb-4464-db54-1d08d03bafdb"
      },
      "source": [
        "xm_test"
      ],
      "execution_count": 150,
      "outputs": [
        {
          "output_type": "execute_result",
          "data": {
            "text/plain": [
              "array([[1.25663706, 5.65486678],\n",
              "       [2.51327412, 5.96902604],\n",
              "       [4.39822972, 0.        ],\n",
              "       [2.82743339, 0.9424778 ],\n",
              "       [0.31415927, 2.51327412],\n",
              "       [3.45575192, 1.57079633],\n",
              "       [1.88495559, 4.39822972],\n",
              "       [0.9424778 , 2.82743339],\n",
              "       [0.31415927, 4.08407045],\n",
              "       [3.14159265, 1.57079633],\n",
              "       [5.65486678, 0.9424778 ],\n",
              "       [3.14159265, 0.62831853],\n",
              "       [1.88495559, 3.76991118],\n",
              "       [5.02654825, 5.65486678],\n",
              "       [4.39822972, 1.57079633],\n",
              "       [3.76991118, 0.        ],\n",
              "       [0.31415927, 0.31415927],\n",
              "       [2.82743339, 0.62831853],\n",
              "       [3.14159265, 3.45575192],\n",
              "       [4.71238898, 4.39822972]])"
            ]
          },
          "metadata": {
            "tags": []
          },
          "execution_count": 150
        }
      ]
    },
    {
      "cell_type": "markdown",
      "metadata": {
        "id": "y0wqgAeHmtZz"
      },
      "source": [
        "### Fitting Model"
      ]
    },
    {
      "cell_type": "code",
      "metadata": {
        "colab": {
          "base_uri": "https://localhost:8080/"
        },
        "id": "yAPJzFGJkrNc",
        "outputId": "f2b5625d-c7ad-43ff-dc1f-089d3a963729"
      },
      "source": [
        "# Fitting Multiple Linear Regression to the Training Dataset\r\n",
        "from sklearn.linear_model import LinearRegression\r\n",
        "regressor = LinearRegression()\r\n",
        "regressor.fit(xm_train, ym_train)"
      ],
      "execution_count": 151,
      "outputs": [
        {
          "output_type": "execute_result",
          "data": {
            "text/plain": [
              "LinearRegression(copy_X=True, fit_intercept=True, n_jobs=None, normalize=False)"
            ]
          },
          "metadata": {
            "tags": []
          },
          "execution_count": 151
        }
      ]
    },
    {
      "cell_type": "code",
      "metadata": {
        "id": "EuY7LvB0nI2P"
      },
      "source": [
        "# Predicting the Test set results\r\n",
        "ym_pred = regressor.predict(xm_test)"
      ],
      "execution_count": 152,
      "outputs": []
    },
    {
      "cell_type": "code",
      "metadata": {
        "colab": {
          "base_uri": "https://localhost:8080/"
        },
        "id": "hhaLfFcrncLh",
        "outputId": "81b899c1-b81f-4d7e-bfac-dccbe00448a3"
      },
      "source": [
        "# Mean Squared Error\r\n",
        "from sklearn.metrics import mean_squared_error\r\n",
        "mean_squared_error(ym_test, ym_pred)"
      ],
      "execution_count": 153,
      "outputs": [
        {
          "output_type": "execute_result",
          "data": {
            "text/plain": [
              "0.6292395274894388"
            ]
          },
          "metadata": {
            "tags": []
          },
          "execution_count": 153
        }
      ]
    },
    {
      "cell_type": "markdown",
      "metadata": {
        "id": "X4VtECu68E1e"
      },
      "source": [
        "## Polynomial Regression of Degree M"
      ]
    },
    {
      "cell_type": "code",
      "metadata": {
        "colab": {
          "base_uri": "https://localhost:8080/"
        },
        "id": "I7anyfMYlLqp",
        "outputId": "9f57f148-3e7d-42db-ff8f-d25781f14ca3"
      },
      "source": [
        "from sklearn.linear_model import LinearRegression\r\n",
        "lin_reg = LinearRegression()\r\n",
        "lin_reg.fit(x_train, y_train)"
      ],
      "execution_count": 154,
      "outputs": [
        {
          "output_type": "execute_result",
          "data": {
            "text/plain": [
              "LinearRegression(copy_X=True, fit_intercept=True, n_jobs=None, normalize=False)"
            ]
          },
          "metadata": {
            "tags": []
          },
          "execution_count": 154
        }
      ]
    },
    {
      "cell_type": "code",
      "metadata": {
        "id": "KIy732JWs3Jo"
      },
      "source": [
        "# Fitting Polynomial Regression to the dataset \r\n",
        "from sklearn.preprocessing import PolynomialFeatures\r\n",
        "poly_reg = PolynomialFeatures(degree=2)\r\n",
        "X_poly = poly_reg.fit_transform(x_train)\r\n",
        "lin_reg_2 = LinearRegression()\r\n",
        "lin_reg_2.fit(X_poly, y_train)\r\n",
        "\r\n",
        "# Predicting the test set Results\r\n",
        "y_pred_poly= rr.predict(x_test)"
      ],
      "execution_count": 155,
      "outputs": []
    },
    {
      "cell_type": "code",
      "metadata": {
        "colab": {
          "base_uri": "https://localhost:8080/",
          "height": 295
        },
        "id": "FWnlA34nvGAp",
        "outputId": "8978232c-11bb-45f7-834b-47c9483dfb17"
      },
      "source": [
        "# Visualising the Polynomial Regression results \r\n",
        "plt.scatter(x_train, y_train, color='red')\r\n",
        "# plt.plot(x_train, lin_reg_2.predict(poly_reg.fit_transform(x_train)), color='green', linestyle='--',linewidth =2)\r\n",
        "plt.scatter(x_train, lin_reg_2.predict(poly_reg.fit_transform(x_train)), color='blue')\r\n",
        "plt.title('Polynomial Regression Result')\r\n",
        "plt.xlabel('x')\r\n",
        "plt.ylabel('sinx')\r\n",
        "plt.show()"
      ],
      "execution_count": 156,
      "outputs": [
        {
          "output_type": "display_data",
          "data": {
            "image/png": "[encoded data removed]",
            "text/plain": [
              "<Figure size 432x288 with 1 Axes>"
            ]
          },
          "metadata": {
            "tags": [],
            "needs_background": "light"
          }
        }
      ]
    },
    {
      "cell_type": "code",
      "metadata": {
        "colab": {
          "base_uri": "https://localhost:8080/"
        },
        "id": "bcn8tiEVGgAH",
        "outputId": "d333a5b8-d9dc-4979-db25-911c2969c1b2"
      },
      "source": [
        "mean_squared_error(y_test, y_pred_poly)"
      ],
      "execution_count": 157,
      "outputs": [
        {
          "output_type": "execute_result",
          "data": {
            "text/plain": [
              "0.28176975577318797"
            ]
          },
          "metadata": {
            "tags": []
          },
          "execution_count": 157
        }
      ]
    },
    {
      "cell_type": "markdown",
      "metadata": {
        "id": "2Ofim9ZO8PdM"
      },
      "source": [
        "## Ridge Regression"
      ]
    },
    {
      "cell_type": "code",
      "metadata": {
        "id": "OhEsxIkH8UYj"
      },
      "source": [
        "# Fitting Ridge Regression to the dataset \r\n",
        "from sklearn.linear_model import Ridge\r\n",
        "rr = Ridge(alpha=0.01)\r\n",
        "rr.fit(x_train, y_train) \r\n",
        "\r\n",
        "# Predicting the test set Results\r\n",
        "y_pred_rr= rr.predict(x_test)\r\n"
      ],
      "execution_count": 158,
      "outputs": []
    },
    {
      "cell_type": "code",
      "metadata": {
        "colab": {
          "base_uri": "https://localhost:8080/",
          "height": 295
        },
        "id": "ldvHf7jkHmJ4",
        "outputId": "dc0fb2bd-b199-4fb2-c1ac-1b529187b27b"
      },
      "source": [
        "# Visualising the Training set results\r\n",
        "plt.scatter(x_train, y_train, color = 'red')\r\n",
        "plt.plot(x_train, rr.predict(x_train), color = 'blue')\r\n",
        "plt.title('Ridge Regression')\r\n",
        "plt.xlabel('x')\r\n",
        "plt.ylabel('sin(x)')\r\n",
        "plt.show()"
      ],
      "execution_count": 159,
      "outputs": [
        {
          "output_type": "display_data",
          "data": {
            "image/png": "[encoded data removed]",
            "text/plain": [
              "<Figure size 432x288 with 1 Axes>"
            ]
          },
          "metadata": {
            "tags": [],
            "needs_background": "light"
          }
        }
      ]
    },
    {
      "cell_type": "code",
      "metadata": {
        "colab": {
          "base_uri": "https://localhost:8080/",
          "height": 295
        },
        "id": "J1VvyvT8H197",
        "outputId": "2d203b81-0df8-48d3-da94-3891bd8479c2"
      },
      "source": [
        "# Visualising the Testing set results\r\n",
        "plt.scatter(x_test, y_test, color = 'red')\r\n",
        "plt.plot(x_train, rr.predict(x_train), color = 'blue')\r\n",
        "plt.title('Ridge Regression')\r\n",
        "plt.xlabel('x')\r\n",
        "plt.ylabel('sin(x)')\r\n",
        "plt.show()"
      ],
      "execution_count": 160,
      "outputs": [
        {
          "output_type": "display_data",
          "data": {
            "image/png": "[encoded data removed]",
            "text/plain": [
              "<Figure size 432x288 with 1 Axes>"
            ]
          },
          "metadata": {
            "tags": [],
            "needs_background": "light"
          }
        }
      ]
    },
    {
      "cell_type": "code",
      "metadata": {
        "colab": {
          "base_uri": "https://localhost:8080/"
        },
        "id": "XvZm7gfvIFFl",
        "outputId": "bba7d9bc-fac6-41a3-ca1a-81f19bced994"
      },
      "source": [
        "# Mean Squared Error\r\n",
        "from sklearn.metrics import mean_squared_error\r\n",
        "mean_squared_error(y_test, y_pred_rr)"
      ],
      "execution_count": 161,
      "outputs": [
        {
          "output_type": "execute_result",
          "data": {
            "text/plain": [
              "0.5848108250019599"
            ]
          },
          "metadata": {
            "tags": []
          },
          "execution_count": 161
        }
      ]
    },
    {
      "cell_type": "markdown",
      "metadata": {
        "id": "4UO3SKm58U76"
      },
      "source": [
        "## LASSO Regression"
      ]
    },
    {
      "cell_type": "code",
      "metadata": {
        "id": "04ws7FY78ZWI"
      },
      "source": [
        "# Fitting LASSO Regression to the dataset \r\n",
        "from sklearn.linear_model import Lasso\r\n",
        "model_lasso = Lasso(alpha=0.01)\r\n",
        "model_lasso.fit(x_train, y_train) \r\n",
        "\r\n",
        "# Predicting the test set Results\r\n",
        "y_pred_lasso= model_lasso.predict(x_test)\r\n"
      ],
      "execution_count": 162,
      "outputs": []
    },
    {
      "cell_type": "code",
      "metadata": {
        "colab": {
          "base_uri": "https://localhost:8080/",
          "height": 295
        },
        "id": "OKsl3su-I2SQ",
        "outputId": "18f9e9e6-5155-4f8c-dee1-46de71f0b01e"
      },
      "source": [
        "# Visualising the Training set results\r\n",
        "plt.scatter(x_train, y_train, color = 'red')\r\n",
        "plt.plot(x_train, model_lasso.predict(x_train), color = 'blue')\r\n",
        "plt.title('Lasso Regression')\r\n",
        "plt.xlabel('x')\r\n",
        "plt.ylabel('sin(x)')\r\n",
        "plt.show()"
      ],
      "execution_count": 163,
      "outputs": [
        {
          "output_type": "display_data",
          "data": {
            "image/png": "[encoded data removed]",
            "text/plain": [
              "<Figure size 432x288 with 1 Axes>"
            ]
          },
          "metadata": {
            "tags": [],
            "needs_background": "light"
          }
        }
      ]
    },
    {
      "cell_type": "code",
      "metadata": {
        "colab": {
          "base_uri": "https://localhost:8080/",
          "height": 295
        },
        "id": "uiWypJ5rJA6l",
        "outputId": "ce213897-fdab-427e-9f71-a0adde68b15f"
      },
      "source": [
        "# Visualising the Testing set results\r\n",
        "plt.scatter(x_test, y_test, color = 'red')\r\n",
        "plt.plot(x_train, model_lasso.predict(x_train), color = 'blue')\r\n",
        "plt.title('Lasso Regression')\r\n",
        "plt.xlabel('x')\r\n",
        "plt.ylabel('sin(x)')\r\n",
        "plt.show()"
      ],
      "execution_count": 164,
      "outputs": [
        {
          "output_type": "display_data",
          "data": {
            "image/png": "[encoded data removed]",
            "text/plain": [
              "<Figure size 432x288 with 1 Axes>"
            ]
          },
          "metadata": {
            "tags": [],
            "needs_background": "light"
          }
        }
      ]
    },
    {
      "cell_type": "code",
      "metadata": {
        "colab": {
          "base_uri": "https://localhost:8080/"
        },
        "id": "q9pLiUI7JIN9",
        "outputId": "06a6821a-2c49-4026-8e7f-0376f31398ef"
      },
      "source": [
        "# Mean Squared Error\r\n",
        "from sklearn.metrics import mean_squared_error\r\n",
        "mean_squared_error(y_test, y_pred_lasso)"
      ],
      "execution_count": 165,
      "outputs": [
        {
          "output_type": "execute_result",
          "data": {
            "text/plain": [
              "0.5889976680359978"
            ]
          },
          "metadata": {
            "tags": []
          },
          "execution_count": 165
        }
      ]
    },
    {
      "cell_type": "markdown",
      "metadata": {
        "id": "K5VwEdBq8ab_"
      },
      "source": [
        "## Elastic-Net Regression"
      ]
    },
    {
      "cell_type": "code",
      "metadata": {
        "id": "OlVOpMAy8frh"
      },
      "source": [
        "# Fitting ElasticNet Regression to the dataset\r\n",
        "from sklearn.linear_model import ElasticNet\r\n",
        "model_enet = ElasticNet(alpha = 0.01)\r\n",
        "model_enet.fit(x_train, y_train) \r\n",
        "\r\n",
        "# Predicting the test set Results\r\n",
        "y_pred_enet= model_enet.predict(x_test)"
      ],
      "execution_count": 166,
      "outputs": []
    },
    {
      "cell_type": "code",
      "metadata": {
        "colab": {
          "base_uri": "https://localhost:8080/",
          "height": 295
        },
        "id": "LbLm5eaeKb1t",
        "outputId": "876d422e-dc89-4373-cd64-bf64f2073fee"
      },
      "source": [
        "# Visualising the Training set results\r\n",
        "plt.scatter(x_train, y_train, color = 'red')\r\n",
        "plt.plot(x_train, model_enet.predict(x_train), color = 'blue')\r\n",
        "plt.title('ElasticNet Regression')\r\n",
        "plt.xlabel('x')\r\n",
        "plt.ylabel('sin(x)')\r\n",
        "plt.show()"
      ],
      "execution_count": 167,
      "outputs": [
        {
          "output_type": "display_data",
          "data": {
            "image/png": "[encoded data removed]",
            "text/plain": [
              "<Figure size 432x288 with 1 Axes>"
            ]
          },
          "metadata": {
            "tags": [],
            "needs_background": "light"
          }
        }
      ]
    },
    {
      "cell_type": "code",
      "metadata": {
        "colab": {
          "base_uri": "https://localhost:8080/",
          "height": 295
        },
        "id": "qp_aE6AZKm1u",
        "outputId": "28412ec9-ccd9-411e-b7f9-c3adaaca59f1"
      },
      "source": [
        "# Visualising the Testing set results\r\n",
        "plt.scatter(x_test, y_test, color = 'red')\r\n",
        "plt.plot(x_train, model_enet.predict(x_train), color = 'blue')\r\n",
        "plt.title('ElasticNet Regression')\r\n",
        "plt.xlabel('x')\r\n",
        "plt.ylabel('sin(x)')\r\n",
        "plt.show()"
      ],
      "execution_count": 168,
      "outputs": [
        {
          "output_type": "display_data",
          "data": {
            "image/png": "[encoded data removed]",
            "text/plain": [
              "<Figure size 432x288 with 1 Axes>"
            ]
          },
          "metadata": {
            "tags": [],
            "needs_background": "light"
          }
        }
      ]
    },
    {
      "cell_type": "code",
      "metadata": {
        "colab": {
          "base_uri": "https://localhost:8080/"
        },
        "id": "Kr1OsSmcKvOx",
        "outputId": "2d46f74c-df14-4330-c716-5ad8415ac9f8"
      },
      "source": [
        "# Mean Squared Error\r\n",
        "from sklearn.metrics import mean_squared_error\r\n",
        "mean_squared_error(y_test, y_pred_enet)"
      ],
      "execution_count": 169,
      "outputs": [
        {
          "output_type": "execute_result",
          "data": {
            "text/plain": [
              "0.5869204348682414"
            ]
          },
          "metadata": {
            "tags": []
          },
          "execution_count": 169
        }
      ]
    },
    {
      "cell_type": "markdown",
      "metadata": {
        "id": "lG5gtEEr8ggM"
      },
      "source": [
        "## Bridge Regression"
      ]
    },
    {
      "cell_type": "code",
      "metadata": {
        "id": "wbV5ooT98kmB",
        "colab": {
          "base_uri": "https://localhost:8080/"
        },
        "outputId": "60ab899f-2e88-4956-9519-9002ef4c7ccd"
      },
      "source": [
        "# Fitting Bridge Regression to the dataset\r\n",
        "from sklearn.linear_model import BayesianRidge\r\n",
        "model_bridge = BayesianRidge() \r\n",
        "model_bridge.fit(x_train, y_train)\r\n",
        "\r\n",
        "# Predicting the test set Results\r\n",
        "y_pred_bridge = model_bridge.predict(x_test)"
      ],
      "execution_count": 170,
      "outputs": [
        {
          "output_type": "stream",
          "text": [
            "/usr/local/lib/python3.6/dist-packages/sklearn/utils/validation.py:760: DataConversionWarning: A column-vector y was passed when a 1d array was expected. Please change the shape of y to (n_samples, ), for example using ravel().\n",
            "  y = column_or_1d(y, warn=True)\n"
          ],
          "name": "stderr"
        }
      ]
    },
    {
      "cell_type": "code",
      "metadata": {
        "colab": {
          "base_uri": "https://localhost:8080/",
          "height": 295
        },
        "id": "-fIZ83zutLr0",
        "outputId": "70e40d13-8577-4451-9af5-1d291f18cbaa"
      },
      "source": [
        "# Visualising the Training set results\r\n",
        "plt.scatter(x_train, y_train, color = 'red')\r\n",
        "plt.plot(x_train, model_bridge.predict(x_train), color = 'blue')\r\n",
        "plt.title('Bridge Regression')\r\n",
        "plt.xlabel('x')\r\n",
        "plt.ylabel('sin(x)')\r\n",
        "plt.show()"
      ],
      "execution_count": 171,
      "outputs": [
        {
          "output_type": "display_data",
          "data": {
            "image/png": "[encoded data removed]",
            "text/plain": [
              "<Figure size 432x288 with 1 Axes>"
            ]
          },
          "metadata": {
            "tags": [],
            "needs_background": "light"
          }
        }
      ]
    },
    {
      "cell_type": "code",
      "metadata": {
        "colab": {
          "base_uri": "https://localhost:8080/",
          "height": 295
        },
        "id": "Bc9n0PP-tTMY",
        "outputId": "c34c4a8d-a653-4b2e-8da1-627808514137"
      },
      "source": [
        "# Visualising the Testing set results\r\n",
        "plt.scatter(x_test, y_test, color = 'red')\r\n",
        "plt.plot(x_train, model_bridge.predict(x_train), color = 'blue')\r\n",
        "plt.title('Bridge Regression')\r\n",
        "plt.xlabel('x')\r\n",
        "plt.ylabel('sin(x)')\r\n",
        "plt.show()"
      ],
      "execution_count": 172,
      "outputs": [
        {
          "output_type": "display_data",
          "data": {
            "image/png": "[encoded data removed]",
            "text/plain": [
              "<Figure size 432x288 with 1 Axes>"
            ]
          },
          "metadata": {
            "tags": [],
            "needs_background": "light"
          }
        }
      ]
    },
    {
      "cell_type": "code",
      "metadata": {
        "colab": {
          "base_uri": "https://localhost:8080/"
        },
        "id": "xErJ2GXQtgQN",
        "outputId": "66c69701-6061-49e2-c8f8-6547ecc25882"
      },
      "source": [
        "# Mean Squared Error\r\n",
        "from sklearn.metrics import mean_squared_error\r\n",
        "mean_squared_error(y_test, y_pred_bridge)"
      ],
      "execution_count": 173,
      "outputs": [
        {
          "output_type": "execute_result",
          "data": {
            "text/plain": [
              "0.6073124826564269"
            ]
          },
          "metadata": {
            "tags": []
          },
          "execution_count": 173
        }
      ]
    }
  ]
}