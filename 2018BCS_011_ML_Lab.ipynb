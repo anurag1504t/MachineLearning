{
  "nbformat": 4,
  "nbformat_minor": 0,
  "metadata": {
    "colab": {
      "name": "2018BCS-011-ML-Lab",
      "provenance": [],
      "authorship_tag": "ABX9TyOw8BtZqft9NJdHRlFuhwZ3",
      "include_colab_link": true
    },
    "kernelspec": {
      "name": "python3",
      "display_name": "Python 3"
    }
  },
  "cells": [
    {
      "cell_type": "markdown",
      "metadata": {
        "id": "view-in-github",
        "colab_type": "text"
      },
      "source": [
        "<a href=\"https://colab.research.google.com/github/anurag1504t/MachineLearning/blob/main/2018BCS_011_ML_Lab.ipynb\" target=\"_parent\"><img src=\"https://colab.research.google.com/assets/colab-badge.svg\" alt=\"Open In Colab\"/></a>"
      ]
    },
    {
      "cell_type": "markdown",
      "metadata": {
        "id": "m-3nehHoFdYF"
      },
      "source": [
        "# ML Lab Assignment - 1"
      ]
    },
    {
      "cell_type": "code",
      "metadata": {
        "id": "f56eCHZSd_iq"
      },
      "source": [
        "# Several helpful packages to load in \r\n",
        "import numpy as np;\r\n",
        "import matplotlib.pyplot as plt;\r\n",
        "import math;\r\n",
        "from random import randrange\r\n",
        "\r\n",
        "# Global variables\r\n",
        "n=20;             # No of points in Dataset\r\n",
        "x_train=[];       # Independent \r\n",
        "y_train=[];       # Dependent"
      ],
      "execution_count": 91,
      "outputs": []
    },
    {
      "cell_type": "markdown",
      "metadata": {
        "id": "Zc55mm87F67V"
      },
      "source": [
        "## Training Dataset"
      ]
    },
    {
      "cell_type": "code",
      "metadata": {
        "colab": {
          "base_uri": "https://localhost:8080/"
        },
        "id": "IA8Z560-0DSG",
        "outputId": "17603969-67e0-4634-9488-00331eecff36"
      },
      "source": [
        "# Gaussian Noise Generation\r\n",
        "noise=np.random.normal(0,1,n);\r\n",
        "print(noise)"
      ],
      "execution_count": 92,
      "outputs": [
        {
          "output_type": "stream",
          "text": [
            "[-0.46437583 -0.62564922 -1.87873901 -0.82244934  0.67228799 -1.13042782\n",
            " -0.89157465 -0.59509745 -1.39138152  0.96584637 -0.28535243 -0.54958028\n",
            " -2.90323913 -2.27978602 -1.18643929 -1.53231746  0.22304303 -0.25194776\n",
            " -0.25068913 -0.50230149]\n"
          ],
          "name": "stdout"
        }
      ]
    },
    {
      "cell_type": "code",
      "metadata": {
        "id": "rmb9SgiX0WPN"
      },
      "source": [
        "# Generation of Random Dataset. y = sin(x) + noise\r\n",
        "for i in range(0,n):\r\n",
        "    x=randrange(0,n+1)*2*math.pi/n;\r\n",
        "    x_train.append(x);\r\n",
        "    y_train.append((math.sin(x)+noise[i]));\r\n",
        "\r\n",
        "x_train = np.array(x_train)\r\n",
        "y_train = np.array(y_train)\r\n",
        "\r\n",
        "x_train = x_train.reshape(20,1)\r\n",
        "y_train = y_train.reshape(20,1)"
      ],
      "execution_count": 93,
      "outputs": []
    },
    {
      "cell_type": "code",
      "metadata": {
        "colab": {
          "base_uri": "https://localhost:8080/"
        },
        "id": "Cc3XjJXs1bQS",
        "outputId": "a94a6fde-f34c-4f41-8e95-063fe9988777"
      },
      "source": [
        "print('Randomly Generated Dataset with 20 points')\r\n",
        "print('X | Y');\r\n",
        "for i in range(0,n):\r\n",
        "  print(x_train[i] , ' | ' , y_train[i]);"
      ],
      "execution_count": 94,
      "outputs": [
        {
          "output_type": "stream",
          "text": [
            "Randomly Generated Dataset with 20 points\n",
            "X | Y\n",
            "[0.62831853]  |  [0.12340942]\n",
            "[0.62831853]  |  [-0.03786396]\n",
            "[6.28318531]  |  [-1.87873901]\n",
            "[3.14159265]  |  [-0.82244934]\n",
            "[0.62831853]  |  [1.26007325]\n",
            "[2.19911486]  |  [-0.32141082]\n",
            "[4.71238898]  |  [-1.89157465]\n",
            "[5.65486678]  |  [-1.1828827]\n",
            "[0.9424778]  |  [-0.58236453]\n",
            "[5.02654825]  |  [0.01478985]\n",
            "[1.25663706]  |  [0.66570408]\n",
            "[3.14159265]  |  [-0.54958028]\n",
            "[5.96902604]  |  [-3.21225612]\n",
            "[4.39822972]  |  [-3.23084253]\n",
            "[0.9424778]  |  [-0.37742229]\n",
            "[5.65486678]  |  [-2.12010271]\n",
            "[6.28318531]  |  [0.22304303]\n",
            "[2.82743339]  |  [0.05706924]\n",
            "[2.19911486]  |  [0.55832786]\n",
            "[5.34070751]  |  [-1.31131848]\n"
          ],
          "name": "stdout"
        }
      ]
    },
    {
      "cell_type": "code",
      "metadata": {
        "colab": {
          "base_uri": "https://localhost:8080/",
          "height": 295
        },
        "id": "odIKlMiz2jiM",
        "outputId": "43626b54-916c-4b65-caae-cd4aff41dbc1"
      },
      "source": [
        "# Plot of Dataset\r\n",
        "plt.plot(x_train,y_train,'bo');\r\n",
        "plt.xlabel('x [0, 2*pi]');\r\n",
        "plt.ylabel('y = sin(x) + noise');\r\n",
        "plt.title('Training Dataset');\r\n",
        "plt.show()"
      ],
      "execution_count": 95,
      "outputs": [
        {
          "output_type": "display_data",
          "data": {
            "image/png": "[encoded data removed]",
            "text/plain": [
              "<Figure size 432x288 with 1 Axes>"
            ]
          },
          "metadata": {
            "tags": [],
            "needs_background": "light"
          }
        }
      ]
    },
    {
      "cell_type": "markdown",
      "metadata": {
        "id": "9n3bQPARzVgk"
      },
      "source": [
        "## Testing Dataset"
      ]
    },
    {
      "cell_type": "code",
      "metadata": {
        "id": "AwOmmOAszU6u"
      },
      "source": [
        "# Variables\r\n",
        "x_test = []\r\n",
        "y_test = []\r\n",
        "\r\n",
        "# Generation of Random Dataset. y = sin(x) \r\n",
        "for i in range(0,n):\r\n",
        "    x=randrange(0,n+1)*2*math.pi/n;\r\n",
        "    x_test.append(x);\r\n",
        "    y_test.append(math.sin(x));\r\n",
        "\r\n",
        "x_test = np.array(x_test)\r\n",
        "y_test = np.array(y_test)\r\n",
        "\r\n",
        "x_test = x_test.reshape(20,1)\r\n",
        "y_test = y_test.reshape(20,1)"
      ],
      "execution_count": 96,
      "outputs": []
    },
    {
      "cell_type": "code",
      "metadata": {
        "colab": {
          "base_uri": "https://localhost:8080/",
          "height": 295
        },
        "id": "Xzv4c5Pn0LvY",
        "outputId": "72b5ea94-e552-4ae9-f8e3-459052d17caa"
      },
      "source": [
        "# Plot of Testing Dataset\r\n",
        "plt.plot(x_test,y_test,'bo');\r\n",
        "plt.xlabel('x 0 to 2*pi');\r\n",
        "plt.ylabel('y = sin(x)');\r\n",
        "plt.title('Testing dataset');\r\n",
        "plt.show()"
      ],
      "execution_count": 97,
      "outputs": [
        {
          "output_type": "display_data",
          "data": {
            "image/png": "[encoded data removed]",
            "text/plain": [
              "<Figure size 432x288 with 1 Axes>"
            ]
          },
          "metadata": {
            "tags": [],
            "needs_background": "light"
          }
        }
      ]
    },
    {
      "cell_type": "markdown",
      "metadata": {
        "id": "JblqPvmb0cDz"
      },
      "source": [
        "## Simple Linear Regression\r\n",
        "\r\n"
      ]
    },
    {
      "cell_type": "code",
      "metadata": {
        "id": "qOmU4Gz60j5a"
      },
      "source": [
        "# Fitting Simple Linear Regression to the Training Dataset\r\n",
        "from sklearn.linear_model import LinearRegression\r\n",
        "regressor = LinearRegression()\r\n",
        "regressor.fit(x_train, y_train)\r\n",
        "\r\n",
        "# Predicting the Test set results\r\n",
        "y_pred = regressor.predict(x_test)"
      ],
      "execution_count": 98,
      "outputs": []
    },
    {
      "cell_type": "code",
      "metadata": {
        "colab": {
          "base_uri": "https://localhost:8080/",
          "height": 295
        },
        "id": "Ygc3ggbkgQ2s",
        "outputId": "57edca7b-88ef-4d8b-e38f-3226afa78c77"
      },
      "source": [
        "# Visualising the Training set results\r\n",
        "plt.scatter(x_train, y_train, color = 'red')\r\n",
        "plt.plot(x_train, regressor.predict(x_train), color = 'blue')\r\n",
        "plt.title(' sin(x) Vs x')\r\n",
        "plt.xlabel('x')\r\n",
        "plt.ylabel('sin(x)')\r\n",
        "plt.show()"
      ],
      "execution_count": 99,
      "outputs": [
        {
          "output_type": "display_data",
          "data": {
            "image/png": "[encoded data removed]",
            "text/plain": [
              "<Figure size 432x288 with 1 Axes>"
            ]
          },
          "metadata": {
            "tags": [],
            "needs_background": "light"
          }
        }
      ]
    },
    {
      "cell_type": "code",
      "metadata": {
        "colab": {
          "base_uri": "https://localhost:8080/",
          "height": 295
        },
        "id": "cExOvcV3g9-L",
        "outputId": "6b991867-8394-4630-eba9-83a8a0ab6e44"
      },
      "source": [
        "# Visualising the Test set results\r\n",
        "plt.scatter(x_test, y_test, color = 'red')\r\n",
        "plt.plot(x_train, regressor.predict(x_train), color = 'blue')\r\n",
        "plt.title(' sin(x) Vs x')\r\n",
        "plt.xlabel('x')\r\n",
        "plt.ylabel('sin(x)')\r\n",
        "plt.show()"
      ],
      "execution_count": 100,
      "outputs": [
        {
          "output_type": "display_data",
          "data": {
            "image/png": "[encoded data removed]",
            "text/plain": [
              "<Figure size 432x288 with 1 Axes>"
            ]
          },
          "metadata": {
            "tags": [],
            "needs_background": "light"
          }
        }
      ]
    },
    {
      "cell_type": "code",
      "metadata": {
        "colab": {
          "base_uri": "https://localhost:8080/"
        },
        "id": "dl8aTyMa60Mo",
        "outputId": "ed5a51de-87cf-424f-f2c6-4a30d1bcd452"
      },
      "source": [
        "# Mean Squared Error\r\n",
        "from sklearn.metrics import mean_squared_error\r\n",
        "mean_squared_error(y_test, y_pred)"
      ],
      "execution_count": 101,
      "outputs": [
        {
          "output_type": "execute_result",
          "data": {
            "text/plain": [
              "0.7346655022152524"
            ]
          },
          "metadata": {
            "tags": []
          },
          "execution_count": 101
        }
      ]
    },
    {
      "cell_type": "markdown",
      "metadata": {
        "id": "ZU8QGae079Fi"
      },
      "source": [
        "## Multiple Linear Regression"
      ]
    },
    {
      "cell_type": "markdown",
      "metadata": {
        "id": "pJZf2Qpdk6oE"
      },
      "source": [
        "### Training Data"
      ]
    },
    {
      "cell_type": "code",
      "metadata": {
        "id": "D_hozj7Y8Dpz"
      },
      "source": [
        "# Variable Declarations\r\n",
        "x1_train = []        # First Independent Variable\r\n",
        "x2_train = []             # Second Independent Variable\r\n",
        "ym_train = []              # Dependent Variable\r\n",
        "\r\n",
        "# Generation of Random Dataset. y = sin(x1) + sin(x2) + noise\r\n",
        "for i in range(0,n):\r\n",
        "    x1=randrange(0,n+1)*2*math.pi/n\r\n",
        "    x2=randrange(0,n+1)*2*math.pi/n\r\n",
        "    x1_train.append(x1);\r\n",
        "    x2_train.append(x2);\r\n",
        "    ym_train.append((math.sin(x1) + math.sin(x2) + noise[i]));\r\n",
        "\r\n",
        "x1_train = np.array(x1_train)\r\n",
        "x2_train = np.array(x2_train)\r\n",
        "ym_train = np.array(ym_train)\r\n",
        "\r\n",
        "x1_train = x1_train.reshape(20,1)\r\n",
        "x2_train = x2_train.reshape(20,1)\r\n",
        "ym_train = ym_train.reshape(20,1)\r\n",
        "\r\n",
        "xm_train = np.column_stack((x1_train, x2_train))"
      ],
      "execution_count": 102,
      "outputs": []
    },
    {
      "cell_type": "code",
      "metadata": {
        "colab": {
          "base_uri": "https://localhost:8080/"
        },
        "id": "8BAz2BarhjoI",
        "outputId": "79df2385-782f-4c09-fcaf-35b690c6ec63"
      },
      "source": [
        "xm_train"
      ],
      "execution_count": 103,
      "outputs": [
        {
          "output_type": "execute_result",
          "data": {
            "text/plain": [
              "array([[3.45575192, 2.82743339],\n",
              "       [0.        , 5.02654825],\n",
              "       [0.        , 0.62831853],\n",
              "       [5.34070751, 5.65486678],\n",
              "       [5.34070751, 4.08407045],\n",
              "       [0.62831853, 3.45575192],\n",
              "       [4.08407045, 5.96902604],\n",
              "       [6.28318531, 1.25663706],\n",
              "       [3.45575192, 0.        ],\n",
              "       [1.25663706, 2.51327412],\n",
              "       [0.62831853, 1.57079633],\n",
              "       [5.34070751, 6.28318531],\n",
              "       [5.65486678, 4.71238898],\n",
              "       [5.02654825, 3.45575192],\n",
              "       [5.02654825, 0.9424778 ],\n",
              "       [4.08407045, 2.82743339],\n",
              "       [0.62831853, 5.02654825],\n",
              "       [2.82743339, 2.19911486],\n",
              "       [0.62831853, 0.        ],\n",
              "       [5.65486678, 3.14159265]])"
            ]
          },
          "metadata": {
            "tags": []
          },
          "execution_count": 103
        }
      ]
    },
    {
      "cell_type": "markdown",
      "metadata": {
        "id": "TWGLKs5qlAbI"
      },
      "source": [
        "### Testing Dataset"
      ]
    },
    {
      "cell_type": "code",
      "metadata": {
        "id": "4z3PgDXhl_6u"
      },
      "source": [
        "# Variable Declarations\r\n",
        "x1_test = []        # First Independent Variable\r\n",
        "x2_test = []             # Second Independent Variable\r\n",
        "ym_test = []              # Dependent Variable\r\n",
        "\r\n",
        "# Generation of Random Dataset. y = sin(x1) + sin(x2) \r\n",
        "for i in range(0,n):\r\n",
        "    x1=randrange(0,n+1)*2*math.pi/n\r\n",
        "    x2=randrange(0,n+1)*2*math.pi/n\r\n",
        "    x1_test.append(x1)\r\n",
        "    x2_test.append(x2)\r\n",
        "    ym_test.append((math.sin(x1) + math.sin(x2)))\r\n",
        "\r\n",
        "xm_test = np.column_stack((x1_train, x2_train))"
      ],
      "execution_count": 104,
      "outputs": []
    },
    {
      "cell_type": "code",
      "metadata": {
        "colab": {
          "base_uri": "https://localhost:8080/"
        },
        "id": "YVaGfuLJmgDV",
        "outputId": "045453e8-2464-47ab-a237-6f0e8613c25b"
      },
      "source": [
        "xm_test"
      ],
      "execution_count": 105,
      "outputs": [
        {
          "output_type": "execute_result",
          "data": {
            "text/plain": [
              "array([[3.45575192, 2.82743339],\n",
              "       [0.        , 5.02654825],\n",
              "       [0.        , 0.62831853],\n",
              "       [5.34070751, 5.65486678],\n",
              "       [5.34070751, 4.08407045],\n",
              "       [0.62831853, 3.45575192],\n",
              "       [4.08407045, 5.96902604],\n",
              "       [6.28318531, 1.25663706],\n",
              "       [3.45575192, 0.        ],\n",
              "       [1.25663706, 2.51327412],\n",
              "       [0.62831853, 1.57079633],\n",
              "       [5.34070751, 6.28318531],\n",
              "       [5.65486678, 4.71238898],\n",
              "       [5.02654825, 3.45575192],\n",
              "       [5.02654825, 0.9424778 ],\n",
              "       [4.08407045, 2.82743339],\n",
              "       [0.62831853, 5.02654825],\n",
              "       [2.82743339, 2.19911486],\n",
              "       [0.62831853, 0.        ],\n",
              "       [5.65486678, 3.14159265]])"
            ]
          },
          "metadata": {
            "tags": []
          },
          "execution_count": 105
        }
      ]
    },
    {
      "cell_type": "markdown",
      "metadata": {
        "id": "y0wqgAeHmtZz"
      },
      "source": [
        "### Fitting Model"
      ]
    },
    {
      "cell_type": "code",
      "metadata": {
        "colab": {
          "base_uri": "https://localhost:8080/"
        },
        "id": "yAPJzFGJkrNc",
        "outputId": "66b214aa-c709-43f3-b438-9db56d22c510"
      },
      "source": [
        "# Fitting Multiple Linear Regression to the Training Dataset\r\n",
        "from sklearn.linear_model import LinearRegression\r\n",
        "regressor = LinearRegression()\r\n",
        "regressor.fit(xm_train, ym_train)"
      ],
      "execution_count": 106,
      "outputs": [
        {
          "output_type": "execute_result",
          "data": {
            "text/plain": [
              "LinearRegression(copy_X=True, fit_intercept=True, n_jobs=None, normalize=False)"
            ]
          },
          "metadata": {
            "tags": []
          },
          "execution_count": 106
        }
      ]
    },
    {
      "cell_type": "code",
      "metadata": {
        "id": "EuY7LvB0nI2P"
      },
      "source": [
        "# Predicting the Test set results\r\n",
        "ym_pred = regressor.predict(xm_test)"
      ],
      "execution_count": 107,
      "outputs": []
    },
    {
      "cell_type": "code",
      "metadata": {
        "colab": {
          "base_uri": "https://localhost:8080/"
        },
        "id": "hhaLfFcrncLh",
        "outputId": "727b96b2-fb86-4922-89a4-9859039b36b9"
      },
      "source": [
        "# Mean Squared Error\r\n",
        "from sklearn.metrics import mean_squared_error\r\n",
        "mean_squared_error(ym_test, ym_pred)"
      ],
      "execution_count": 108,
      "outputs": [
        {
          "output_type": "execute_result",
          "data": {
            "text/plain": [
              "2.704992864105698"
            ]
          },
          "metadata": {
            "tags": []
          },
          "execution_count": 108
        }
      ]
    },
    {
      "cell_type": "markdown",
      "metadata": {
        "id": "X4VtECu68E1e"
      },
      "source": [
        "## Polynomial Regression of Degree M"
      ]
    },
    {
      "cell_type": "code",
      "metadata": {
        "colab": {
          "base_uri": "https://localhost:8080/"
        },
        "id": "stxdobm1rEQA",
        "outputId": "7871a9ca-4e65-4b4a-d6a3-87599f2a7391"
      },
      "source": [
        "y_train"
      ],
      "execution_count": 109,
      "outputs": [
        {
          "output_type": "execute_result",
          "data": {
            "text/plain": [
              "array([[ 0.12340942],\n",
              "       [-0.03786396],\n",
              "       [-1.87873901],\n",
              "       [-0.82244934],\n",
              "       [ 1.26007325],\n",
              "       [-0.32141082],\n",
              "       [-1.89157465],\n",
              "       [-1.1828827 ],\n",
              "       [-0.58236453],\n",
              "       [ 0.01478985],\n",
              "       [ 0.66570408],\n",
              "       [-0.54958028],\n",
              "       [-3.21225612],\n",
              "       [-3.23084253],\n",
              "       [-0.37742229],\n",
              "       [-2.12010271],\n",
              "       [ 0.22304303],\n",
              "       [ 0.05706924],\n",
              "       [ 0.55832786],\n",
              "       [-1.31131848]])"
            ]
          },
          "metadata": {
            "tags": []
          },
          "execution_count": 109
        }
      ]
    },
    {
      "cell_type": "code",
      "metadata": {
        "colab": {
          "base_uri": "https://localhost:8080/"
        },
        "id": "I7anyfMYlLqp",
        "outputId": "0abb9282-077e-4024-bc6c-d4f3a6a94ca8"
      },
      "source": [
        "from sklearn.linear_model import LinearRegression\r\n",
        "lin_reg = LinearRegression()\r\n",
        "lin_reg.fit(x_train, y_train)"
      ],
      "execution_count": 110,
      "outputs": [
        {
          "output_type": "execute_result",
          "data": {
            "text/plain": [
              "LinearRegression(copy_X=True, fit_intercept=True, n_jobs=None, normalize=False)"
            ]
          },
          "metadata": {
            "tags": []
          },
          "execution_count": 110
        }
      ]
    },
    {
      "cell_type": "code",
      "metadata": {
        "colab": {
          "base_uri": "https://localhost:8080/"
        },
        "id": "KIy732JWs3Jo",
        "outputId": "05e887a2-7a39-434a-ac8d-e14ae5b46375"
      },
      "source": [
        "# Fitting Polynomial Regression to the dataset \r\n",
        "from sklearn.preprocessing import PolynomialFeatures\r\n",
        "poly_reg = PolynomialFeatures(degree=3)\r\n",
        "X_poly = poly_reg.fit_transform(x_train)\r\n",
        "lin_reg_2 = LinearRegression()\r\n",
        "lin_reg_2.fit(X_poly, y_train)"
      ],
      "execution_count": 111,
      "outputs": [
        {
          "output_type": "execute_result",
          "data": {
            "text/plain": [
              "LinearRegression(copy_X=True, fit_intercept=True, n_jobs=None, normalize=False)"
            ]
          },
          "metadata": {
            "tags": []
          },
          "execution_count": 111
        }
      ]
    },
    {
      "cell_type": "code",
      "metadata": {
        "id": "SpECjbY272I0"
      },
      "source": [
        "# poly.fit_transform(xpoints)"
      ],
      "execution_count": 112,
      "outputs": []
    },
    {
      "cell_type": "code",
      "metadata": {
        "colab": {
          "base_uri": "https://localhost:8080/",
          "height": 295
        },
        "id": "FWnlA34nvGAp",
        "outputId": "2224d8f6-3bd9-4508-f521-48266079c0dc"
      },
      "source": [
        "# Visualising the Polynomial Regression results \r\n",
        "plt.scatter(x_train, y_train, color='red')\r\n",
        "plt.plot(x_train, lin_reg_2.predict(poly_reg.fit_transform(x_train)), color='green')\r\n",
        "plt.scatter(x_train, lin_reg_2.predict(poly_reg.fit_transform(x_train)), color='blue')\r\n",
        "plt.title('Polynomial Regression Result')\r\n",
        "plt.xlabel('x')\r\n",
        "plt.ylabel('sinx')\r\n",
        "plt.show()"
      ],
      "execution_count": 113,
      "outputs": [
        {
          "output_type": "display_data",
          "data": {
            "image/png": "[encoded data removed]",
            "text/plain": [
              "<Figure size 432x288 with 1 Axes>"
            ]
          },
          "metadata": {
            "tags": [],
            "needs_background": "light"
          }
        }
      ]
    },
    {
      "cell_type": "code",
      "metadata": {
        "colab": {
          "base_uri": "https://localhost:8080/"
        },
        "id": "bcn8tiEVGgAH",
        "outputId": "7fd53fa8-3353-4b1a-b84a-13d0ec4dc51b"
      },
      "source": [
        "mean_squared_error(y_train,lin_reg_2.predict(poly_reg.fit_transform(x_train)))"
      ],
      "execution_count": 114,
      "outputs": [
        {
          "output_type": "execute_result",
          "data": {
            "text/plain": [
              "0.7665095545715834"
            ]
          },
          "metadata": {
            "tags": []
          },
          "execution_count": 114
        }
      ]
    },
    {
      "cell_type": "markdown",
      "metadata": {
        "id": "2Ofim9ZO8PdM"
      },
      "source": [
        "## Ridge Regression"
      ]
    },
    {
      "cell_type": "code",
      "metadata": {
        "id": "OhEsxIkH8UYj"
      },
      "source": [
        "# Fitting Ridge Regression to the dataset \r\n",
        "from sklearn.linear_model import Ridge\r\n",
        "rr = Ridge(alpha=0.01)\r\n",
        "rr.fit(x_train, y_train) \r\n",
        "\r\n",
        "# Predicting the test set Results\r\n",
        "y_pred_rr= rr.predict(x_test)\r\n"
      ],
      "execution_count": 115,
      "outputs": []
    },
    {
      "cell_type": "code",
      "metadata": {
        "colab": {
          "base_uri": "https://localhost:8080/",
          "height": 295
        },
        "id": "ldvHf7jkHmJ4",
        "outputId": "8c471d63-1093-4ccc-871c-969a1993b23d"
      },
      "source": [
        "# Visualising the Training set results\r\n",
        "plt.scatter(x_train, y_train, color = 'red')\r\n",
        "plt.plot(x_train, rr.predict(x_train), color = 'blue')\r\n",
        "plt.title('Ridge Regression')\r\n",
        "plt.xlabel('x')\r\n",
        "plt.ylabel('sin(x)')\r\n",
        "plt.show()"
      ],
      "execution_count": 116,
      "outputs": [
        {
          "output_type": "display_data",
          "data": {
            "image/png": "[encoded data removed]",
            "text/plain": [
              "<Figure size 432x288 with 1 Axes>"
            ]
          },
          "metadata": {
            "tags": [],
            "needs_background": "light"
          }
        }
      ]
    },
    {
      "cell_type": "code",
      "metadata": {
        "colab": {
          "base_uri": "https://localhost:8080/",
          "height": 295
        },
        "id": "J1VvyvT8H197",
        "outputId": "a5d47c44-208d-43dd-c67d-7523541827aa"
      },
      "source": [
        "# Visualising the Testing set results\r\n",
        "plt.scatter(x_test, y_test, color = 'red')\r\n",
        "plt.plot(x_train, rr.predict(x_train), color = 'blue')\r\n",
        "plt.title('Ridge Regression')\r\n",
        "plt.xlabel('x')\r\n",
        "plt.ylabel('sin(x)')\r\n",
        "plt.show()"
      ],
      "execution_count": 117,
      "outputs": [
        {
          "output_type": "display_data",
          "data": {
            "image/png": "[encoded data removed]",
            "text/plain": [
              "<Figure size 432x288 with 1 Axes>"
            ]
          },
          "metadata": {
            "tags": [],
            "needs_background": "light"
          }
        }
      ]
    },
    {
      "cell_type": "code",
      "metadata": {
        "colab": {
          "base_uri": "https://localhost:8080/"
        },
        "id": "XvZm7gfvIFFl",
        "outputId": "186f2820-eaf5-4ff9-e2ad-e3bbbc76290a"
      },
      "source": [
        "# Mean Squared Error\r\n",
        "from sklearn.metrics import mean_squared_error\r\n",
        "mean_squared_error(y_test, y_pred_rr)"
      ],
      "execution_count": 118,
      "outputs": [
        {
          "output_type": "execute_result",
          "data": {
            "text/plain": [
              "0.7347144802190113"
            ]
          },
          "metadata": {
            "tags": []
          },
          "execution_count": 118
        }
      ]
    },
    {
      "cell_type": "markdown",
      "metadata": {
        "id": "4UO3SKm58U76"
      },
      "source": [
        "## LASSO Regression"
      ]
    },
    {
      "cell_type": "code",
      "metadata": {
        "id": "04ws7FY78ZWI"
      },
      "source": [
        "# Fitting LASSO Regression to the dataset \r\n",
        "from sklearn.linear_model import Lasso\r\n",
        "model_lasso = Lasso(alpha=0.01)\r\n",
        "model_lasso.fit(x_train, y_train) \r\n",
        "\r\n",
        "# Predicting the test set Results\r\n",
        "y_pred_lasso= model_lasso.predict(x_test)\r\n"
      ],
      "execution_count": 119,
      "outputs": []
    },
    {
      "cell_type": "code",
      "metadata": {
        "colab": {
          "base_uri": "https://localhost:8080/",
          "height": 295
        },
        "id": "OKsl3su-I2SQ",
        "outputId": "a34d0b8e-6f53-496e-9d13-6233b94d79bb"
      },
      "source": [
        "# Visualising the Training set results\r\n",
        "plt.scatter(x_train, y_train, color = 'red')\r\n",
        "plt.plot(x_train, model_lasso.predict(x_train), color = 'blue')\r\n",
        "plt.title('Lasso Regression')\r\n",
        "plt.xlabel('x')\r\n",
        "plt.ylabel('sin(x)')\r\n",
        "plt.show()"
      ],
      "execution_count": 120,
      "outputs": [
        {
          "output_type": "display_data",
          "data": {
            "image/png": "[encoded data removed]",
            "text/plain": [
              "<Figure size 432x288 with 1 Axes>"
            ]
          },
          "metadata": {
            "tags": [],
            "needs_background": "light"
          }
        }
      ]
    },
    {
      "cell_type": "code",
      "metadata": {
        "colab": {
          "base_uri": "https://localhost:8080/",
          "height": 295
        },
        "id": "uiWypJ5rJA6l",
        "outputId": "ec767430-e145-4d95-d8fb-552de312794e"
      },
      "source": [
        "# Visualising the Testing set results\r\n",
        "plt.scatter(x_test, y_test, color = 'red')\r\n",
        "plt.plot(x_train, model_lasso.predict(x_train), color = 'blue')\r\n",
        "plt.title('Lasso Regression')\r\n",
        "plt.xlabel('x')\r\n",
        "plt.ylabel('sin(x)')\r\n",
        "plt.show()"
      ],
      "execution_count": 121,
      "outputs": [
        {
          "output_type": "display_data",
          "data": {
            "image/png": "[encoded data removed]",
            "text/plain": [
              "<Figure size 432x288 with 1 Axes>"
            ]
          },
          "metadata": {
            "tags": [],
            "needs_background": "light"
          }
        }
      ]
    },
    {
      "cell_type": "code",
      "metadata": {
        "colab": {
          "base_uri": "https://localhost:8080/"
        },
        "id": "q9pLiUI7JIN9",
        "outputId": "ef316cfa-92a0-49e6-efe2-d7532e56df06"
      },
      "source": [
        "# Mean Squared Error\r\n",
        "from sklearn.metrics import mean_squared_error\r\n",
        "mean_squared_error(y_test, y_pred_lasso)"
      ],
      "execution_count": 122,
      "outputs": [
        {
          "output_type": "execute_result",
          "data": {
            "text/plain": [
              "0.7373400098080363"
            ]
          },
          "metadata": {
            "tags": []
          },
          "execution_count": 122
        }
      ]
    },
    {
      "cell_type": "markdown",
      "metadata": {
        "id": "K5VwEdBq8ab_"
      },
      "source": [
        "## Elastic-Net Regression"
      ]
    },
    {
      "cell_type": "code",
      "metadata": {
        "id": "OlVOpMAy8frh"
      },
      "source": [
        "# Fitting ElasticNet Regression to the dataset\r\n",
        "from sklearn.linear_model import ElasticNet\r\n",
        "model_enet = ElasticNet(alpha = 0.01)\r\n",
        "model_enet.fit(x_train, y_train) \r\n",
        "\r\n",
        "# Predicting the test set Results\r\n",
        "y_pred_enet= model_enet.predict(x_test)"
      ],
      "execution_count": 123,
      "outputs": []
    },
    {
      "cell_type": "code",
      "metadata": {
        "colab": {
          "base_uri": "https://localhost:8080/",
          "height": 295
        },
        "id": "LbLm5eaeKb1t",
        "outputId": "2cfd307f-f31f-4ebe-846d-e87f53106e4a"
      },
      "source": [
        "# Visualising the Training set results\r\n",
        "plt.scatter(x_train, y_train, color = 'red')\r\n",
        "plt.plot(x_train, model_enet.predict(x_train), color = 'blue')\r\n",
        "plt.title('ElasticNet Regression')\r\n",
        "plt.xlabel('x')\r\n",
        "plt.ylabel('sin(x)')\r\n",
        "plt.show()"
      ],
      "execution_count": 124,
      "outputs": [
        {
          "output_type": "display_data",
          "data": {
            "image/png": "[encoded data removed]",
            "text/plain": [
              "<Figure size 432x288 with 1 Axes>"
            ]
          },
          "metadata": {
            "tags": [],
            "needs_background": "light"
          }
        }
      ]
    },
    {
      "cell_type": "code",
      "metadata": {
        "colab": {
          "base_uri": "https://localhost:8080/",
          "height": 295
        },
        "id": "qp_aE6AZKm1u",
        "outputId": "c15a96e6-4843-43b6-975e-04395ff90ece"
      },
      "source": [
        "# Visualising the Testing set results\r\n",
        "plt.scatter(x_test, y_test, color = 'red')\r\n",
        "plt.plot(x_train, model_enet.predict(x_train), color = 'blue')\r\n",
        "plt.title('ElasticNet Regression')\r\n",
        "plt.xlabel('x')\r\n",
        "plt.ylabel('sin(x)')\r\n",
        "plt.show()"
      ],
      "execution_count": 125,
      "outputs": [
        {
          "output_type": "display_data",
          "data": {
            "image/png": "[encoded data removed]",
            "text/plain": [
              "<Figure size 432x288 with 1 Axes>"
            ]
          },
          "metadata": {
            "tags": [],
            "needs_background": "light"
          }
        }
      ]
    },
    {
      "cell_type": "code",
      "metadata": {
        "colab": {
          "base_uri": "https://localhost:8080/"
        },
        "id": "Kr1OsSmcKvOx",
        "outputId": "d9d708cb-0bf2-4ef7-ac06-45401ec915b3"
      },
      "source": [
        "# Mean Squared Error\r\n",
        "from sklearn.metrics import mean_squared_error\r\n",
        "mean_squared_error(y_test, y_pred_enet)"
      ],
      "execution_count": 126,
      "outputs": [
        {
          "output_type": "execute_result",
          "data": {
            "text/plain": [
              "0.7364898030123291"
            ]
          },
          "metadata": {
            "tags": []
          },
          "execution_count": 126
        }
      ]
    },
    {
      "cell_type": "markdown",
      "metadata": {
        "id": "lG5gtEEr8ggM"
      },
      "source": [
        "## Bridge Regression"
      ]
    },
    {
      "cell_type": "code",
      "metadata": {
        "id": "wbV5ooT98kmB",
        "colab": {
          "base_uri": "https://localhost:8080/"
        },
        "outputId": "7fd1180c-21ee-40b2-c66e-5f5191c232dc"
      },
      "source": [
        "# Fitting Bridge Regression to the dataset\r\n",
        "from sklearn.linear_model import BayesianRidge\r\n",
        "model_bridge = BayesianRidge() \r\n",
        "model_bridge.fit(x_train, y_train)\r\n",
        "\r\n",
        "# Predicting the test set Results\r\n",
        "y_pred_bridge = model_bridge.predict(x_test)"
      ],
      "execution_count": 127,
      "outputs": [
        {
          "output_type": "stream",
          "text": [
            "/usr/local/lib/python3.6/dist-packages/sklearn/utils/validation.py:760: DataConversionWarning: A column-vector y was passed when a 1d array was expected. Please change the shape of y to (n_samples, ), for example using ravel().\n",
            "  y = column_or_1d(y, warn=True)\n"
          ],
          "name": "stderr"
        }
      ]
    },
    {
      "cell_type": "code",
      "metadata": {
        "colab": {
          "base_uri": "https://localhost:8080/",
          "height": 295
        },
        "id": "-fIZ83zutLr0",
        "outputId": "3cc0186a-3e65-4a13-fb8b-e977f845cf55"
      },
      "source": [
        "# Visualising the Training set results\r\n",
        "plt.scatter(x_train, y_train, color = 'red')\r\n",
        "plt.plot(x_train, model_bridge.predict(x_train), color = 'blue')\r\n",
        "plt.title('Bridge Regression')\r\n",
        "plt.xlabel('x')\r\n",
        "plt.ylabel('sin(x)')\r\n",
        "plt.show()"
      ],
      "execution_count": 128,
      "outputs": [
        {
          "output_type": "display_data",
          "data": {
            "image/png": "[encoded data removed]",
            "text/plain": [
              "<Figure size 432x288 with 1 Axes>"
            ]
          },
          "metadata": {
            "tags": [],
            "needs_background": "light"
          }
        }
      ]
    },
    {
      "cell_type": "code",
      "metadata": {
        "colab": {
          "base_uri": "https://localhost:8080/",
          "height": 295
        },
        "id": "Bc9n0PP-tTMY",
        "outputId": "3e7606ac-93b2-4e56-bec6-63ce857c8153"
      },
      "source": [
        "# Visualising the Testing set results\r\n",
        "plt.scatter(x_test, y_test, color = 'red')\r\n",
        "plt.plot(x_train, model_bridge.predict(x_train), color = 'blue')\r\n",
        "plt.title('Bridge Regression')\r\n",
        "plt.xlabel('x')\r\n",
        "plt.ylabel('sin(x)')\r\n",
        "plt.show()"
      ],
      "execution_count": 129,
      "outputs": [
        {
          "output_type": "display_data",
          "data": {
            "image/png": "[encoded data removed]",
            "text/plain": [
              "<Figure size 432x288 with 1 Axes>"
            ]
          },
          "metadata": {
            "tags": [],
            "needs_background": "light"
          }
        }
      ]
    },
    {
      "cell_type": "code",
      "metadata": {
        "colab": {
          "base_uri": "https://localhost:8080/"
        },
        "id": "xErJ2GXQtgQN",
        "outputId": "558e157d-6d0a-4294-f58a-72ac65af9eb5"
      },
      "source": [
        "# Mean Squared Error\r\n",
        "from sklearn.metrics import mean_squared_error\r\n",
        "mean_squared_error(y_test, y_pred_bridge)"
      ],
      "execution_count": 130,
      "outputs": [
        {
          "output_type": "execute_result",
          "data": {
            "text/plain": [
              "0.7698974480510146"
            ]
          },
          "metadata": {
            "tags": []
          },
          "execution_count": 130
        }
      ]
    }
  ]
}