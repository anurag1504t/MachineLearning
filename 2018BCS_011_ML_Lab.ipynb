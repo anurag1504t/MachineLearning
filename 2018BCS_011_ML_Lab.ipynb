{
  "nbformat": 4,
  "nbformat_minor": 0,
  "metadata": {
    "colab": {
      "name": "2018BCS-011-ML-Lab",
      "provenance": [],
      "authorship_tag": "ABX9TyOLtAFD8voN6FaLz5N4QGk0",
      "include_colab_link": true
    },
    "kernelspec": {
      "name": "python3",
      "display_name": "Python 3"
    }
  },
  "cells": [
    {
      "cell_type": "markdown",
      "metadata": {
        "id": "view-in-github",
        "colab_type": "text"
      },
      "source": [
        "<a href=\"https://colab.research.google.com/github/anurag1504t/MachineLearning/blob/main/2018BCS_011_ML_Lab.ipynb\" target=\"_parent\"><img src=\"https://colab.research.google.com/assets/colab-badge.svg\" alt=\"Open In Colab\"/></a>"
      ]
    },
    {
      "cell_type": "markdown",
      "metadata": {
        "id": "m-3nehHoFdYF"
      },
      "source": [
        "# ML Lab Assignment - 1"
      ]
    },
    {
      "cell_type": "code",
      "metadata": {
        "id": "f56eCHZSd_iq"
      },
      "source": [
        "# Several helpful packages to load in \r\n",
        "import numpy as np;\r\n",
        "import matplotlib.pyplot as plt;\r\n",
        "import math;\r\n",
        "from random import randrange\r\n",
        "\r\n",
        "# Global variables\r\n",
        "n=20;             # No of points in Dataset\r\n",
        "x_train=[];       # Independent \r\n",
        "y_train=[];       # Dependent"
      ],
      "execution_count": 1,
      "outputs": []
    },
    {
      "cell_type": "markdown",
      "metadata": {
        "id": "Zc55mm87F67V"
      },
      "source": [
        "## Training Dataset"
      ]
    },
    {
      "cell_type": "code",
      "metadata": {
        "colab": {
          "base_uri": "https://localhost:8080/"
        },
        "id": "IA8Z560-0DSG",
        "outputId": "53eeb26b-f7aa-4a52-c910-10435ac91b9d"
      },
      "source": [
        "# Gaussian Noise Generation\r\n",
        "noise=np.random.normal(0,1,n);\r\n",
        "print(noise)"
      ],
      "execution_count": 2,
      "outputs": [
        {
          "output_type": "stream",
          "text": [
            "[-0.61810666  0.51129473  0.01021991  0.62249565  0.35753495 -1.4104063\n",
            " -0.13351644  0.12692951  0.25221007 -0.41794671  0.08411116  1.57120039\n",
            "  0.05961747  1.41104562 -1.17187783  0.77237554 -0.2394709  -0.83383499\n",
            " -0.77107742 -0.53727946]\n"
          ],
          "name": "stdout"
        }
      ]
    },
    {
      "cell_type": "code",
      "metadata": {
        "id": "rmb9SgiX0WPN"
      },
      "source": [
        "# Generation of Random Dataset. y = sin(x) + noise\r\n",
        "for i in range(0,n):\r\n",
        "    x=randrange(0,n+1)*2*math.pi/n;\r\n",
        "    x_train.append(x);\r\n",
        "    y_train.append((math.sin(x)+noise[i]));\r\n",
        "\r\n",
        "x_train = np.array(x_train)\r\n",
        "y_train = np.array(y_train)\r\n",
        "\r\n",
        "x_train = x_train.reshape(20,1)\r\n",
        "y_train = y_train.reshape(20,1)"
      ],
      "execution_count": 3,
      "outputs": []
    },
    {
      "cell_type": "code",
      "metadata": {
        "colab": {
          "base_uri": "https://localhost:8080/"
        },
        "id": "Cc3XjJXs1bQS",
        "outputId": "75286c8b-eda6-40d0-a132-fddc2227d2c8"
      },
      "source": [
        "print('Randomly Generated Dataset with 20 points')\r\n",
        "print('X | Y');\r\n",
        "for i in range(0,n):\r\n",
        "  print(x_train[i] , ' | ' , y_train[i]);"
      ],
      "execution_count": 4,
      "outputs": [
        {
          "output_type": "stream",
          "text": [
            "Randomly Generated Dataset with 20 points\n",
            "X | Y\n",
            "[6.28318531]  |  [-0.61810666]\n",
            "[2.51327412]  |  [1.09907998]\n",
            "[3.14159265]  |  [0.01021991]\n",
            "[1.88495559]  |  [1.57355217]\n",
            "[4.39822972]  |  [-0.59352157]\n",
            "[1.25663706]  |  [-0.45934979]\n",
            "[0.9424778]  |  [0.67550055]\n",
            "[1.25663706]  |  [1.07798603]\n",
            "[0.9424778]  |  [1.06122707]\n",
            "[5.65486678]  |  [-1.00573197]\n",
            "[5.96902604]  |  [-0.22490584]\n",
            "[0.]  |  [1.57120039]\n",
            "[1.88495559]  |  [1.01067399]\n",
            "[0.9424778]  |  [2.22006261]\n",
            "[2.51327412]  |  [-0.58409258]\n",
            "[0.31415927]  |  [1.08139254]\n",
            "[0.31415927]  |  [0.06954609]\n",
            "[5.34070751]  |  [-1.64285199]\n",
            "[3.76991118]  |  [-1.35886267]\n",
            "[5.34070751]  |  [-1.34629646]\n"
          ],
          "name": "stdout"
        }
      ]
    },
    {
      "cell_type": "code",
      "metadata": {
        "colab": {
          "base_uri": "https://localhost:8080/",
          "height": 295
        },
        "id": "odIKlMiz2jiM",
        "outputId": "a271eafa-5f9f-4e3d-c9b0-eec321299cdb"
      },
      "source": [
        "# Plot of Dataset\r\n",
        "plt.plot(x_train,y_train,'bo');\r\n",
        "plt.xlabel('x [0, 2*pi]');\r\n",
        "plt.ylabel('y = sin(x) + noise');\r\n",
        "plt.title('Training Dataset');\r\n",
        "plt.show()"
      ],
      "execution_count": 5,
      "outputs": [
        {
          "output_type": "display_data",
          "data": {
            "image/png": "[encoded data removed]",
            "text/plain": [
              "<Figure size 432x288 with 1 Axes>"
            ]
          },
          "metadata": {
            "tags": [],
            "needs_background": "light"
          }
        }
      ]
    },
    {
      "cell_type": "markdown",
      "metadata": {
        "id": "9n3bQPARzVgk"
      },
      "source": [
        "## Testing Dataset"
      ]
    },
    {
      "cell_type": "code",
      "metadata": {
        "id": "AwOmmOAszU6u"
      },
      "source": [
        "# Variables\r\n",
        "x_test = []\r\n",
        "y_test = []\r\n",
        "\r\n",
        "# Generation of Random Dataset. y = sin(x) \r\n",
        "for i in range(0,n):\r\n",
        "    x=randrange(0,n+1)*2*math.pi/n;\r\n",
        "    x_test.append(x);\r\n",
        "    y_test.append(math.sin(x));\r\n",
        "\r\n",
        "x_test = np.array(x_test)\r\n",
        "y_test = np.array(y_test)\r\n",
        "\r\n",
        "x_test = x_test.reshape(20,1)\r\n",
        "y_test = y_test.reshape(20,1)"
      ],
      "execution_count": 6,
      "outputs": []
    },
    {
      "cell_type": "code",
      "metadata": {
        "colab": {
          "base_uri": "https://localhost:8080/",
          "height": 295
        },
        "id": "Xzv4c5Pn0LvY",
        "outputId": "3bfb0e31-d5e1-4c83-ac0d-5d5cac5a22ba"
      },
      "source": [
        "# Plot of Testing Dataset\r\n",
        "plt.plot(x_test,y_test,'bo');\r\n",
        "plt.xlabel('x 0 to 2*pi');\r\n",
        "plt.ylabel('y = sin(x)');\r\n",
        "plt.title('Testing dataset');\r\n",
        "plt.show()"
      ],
      "execution_count": 7,
      "outputs": [
        {
          "output_type": "display_data",
          "data": {
            "image/png": "[encoded data removed]",
            "text/plain": [
              "<Figure size 432x288 with 1 Axes>"
            ]
          },
          "metadata": {
            "tags": [],
            "needs_background": "light"
          }
        }
      ]
    },
    {
      "cell_type": "markdown",
      "metadata": {
        "id": "JblqPvmb0cDz"
      },
      "source": [
        "## Simple Linear Regression\r\n",
        "\r\n"
      ]
    },
    {
      "cell_type": "code",
      "metadata": {
        "id": "qOmU4Gz60j5a"
      },
      "source": [
        "# Fitting Simple Linear Regression to the Training Dataset\r\n",
        "from sklearn.linear_model import LinearRegression\r\n",
        "regressor = LinearRegression()\r\n",
        "regressor.fit(x_train, y_train)\r\n",
        "\r\n",
        "# Predicting the Test set results\r\n",
        "y_pred = regressor.predict(x_test)"
      ],
      "execution_count": 8,
      "outputs": []
    },
    {
      "cell_type": "code",
      "metadata": {
        "colab": {
          "base_uri": "https://localhost:8080/",
          "height": 295
        },
        "id": "Ygc3ggbkgQ2s",
        "outputId": "ae7e5490-86e8-4747-a5e6-3359e2a66bf1"
      },
      "source": [
        "# Visualising the Training set results\r\n",
        "plt.scatter(x_train, y_train, color = 'red')\r\n",
        "plt.plot(x_train, regressor.predict(x_train), color = 'blue')\r\n",
        "plt.title(' sin(x) Vs x')\r\n",
        "plt.xlabel('x')\r\n",
        "plt.ylabel('sin(x)')\r\n",
        "plt.show()"
      ],
      "execution_count": 9,
      "outputs": [
        {
          "output_type": "display_data",
          "data": {
            "image/png": "[encoded data removed]",
            "text/plain": [
              "<Figure size 432x288 with 1 Axes>"
            ]
          },
          "metadata": {
            "tags": [],
            "needs_background": "light"
          }
        }
      ]
    },
    {
      "cell_type": "code",
      "metadata": {
        "colab": {
          "base_uri": "https://localhost:8080/",
          "height": 295
        },
        "id": "cExOvcV3g9-L",
        "outputId": "94467776-d503-4816-f2b8-ea16ce9eeee3"
      },
      "source": [
        "# Visualising the Test set results\r\n",
        "plt.scatter(x_test, y_test, color = 'red')\r\n",
        "plt.plot(x_train, regressor.predict(x_train), color = 'blue')\r\n",
        "plt.title(' sin(x) Vs x')\r\n",
        "plt.xlabel('x')\r\n",
        "plt.ylabel('sin(x)')\r\n",
        "plt.show()"
      ],
      "execution_count": 10,
      "outputs": [
        {
          "output_type": "display_data",
          "data": {
            "image/png": "[encoded data removed]",
            "text/plain": [
              "<Figure size 432x288 with 1 Axes>"
            ]
          },
          "metadata": {
            "tags": [],
            "needs_background": "light"
          }
        }
      ]
    },
    {
      "cell_type": "code",
      "metadata": {
        "colab": {
          "base_uri": "https://localhost:8080/"
        },
        "id": "dl8aTyMa60Mo",
        "outputId": "4e05ac48-e818-4cc5-e83c-86af7d45161d"
      },
      "source": [
        "# Mean Squared Error\r\n",
        "from sklearn.metrics import mean_squared_error\r\n",
        "mean_squared_error(y_test, y_pred)"
      ],
      "execution_count": 11,
      "outputs": [
        {
          "output_type": "execute_result",
          "data": {
            "text/plain": [
              "0.3082485789906846"
            ]
          },
          "metadata": {
            "tags": []
          },
          "execution_count": 11
        }
      ]
    },
    {
      "cell_type": "markdown",
      "metadata": {
        "id": "ZU8QGae079Fi"
      },
      "source": [
        "## Multiple Linear Regression"
      ]
    },
    {
      "cell_type": "markdown",
      "metadata": {
        "id": "pJZf2Qpdk6oE"
      },
      "source": [
        "### Training Data"
      ]
    },
    {
      "cell_type": "code",
      "metadata": {
        "id": "D_hozj7Y8Dpz"
      },
      "source": [
        "# Variable Declarations\r\n",
        "x1_train = []        # First Independent Variable\r\n",
        "x2_train = []             # Second Independent Variable\r\n",
        "ym_train = []              # Dependent Variable\r\n",
        "\r\n",
        "# Generation of Random Dataset. y = sin(x1) + sin(x2) + noise\r\n",
        "for i in range(0,n):\r\n",
        "    x1=randrange(0,n+1)*2*math.pi/n\r\n",
        "    x2=randrange(0,n+1)*2*math.pi/n\r\n",
        "    x1_train.append(x1);\r\n",
        "    x2_train.append(x2);\r\n",
        "    ym_train.append((math.sin(x1) + math.sin(x2) + noise[i]));\r\n",
        "\r\n",
        "x1_train = np.array(x1_train)\r\n",
        "x2_train = np.array(x2_train)\r\n",
        "ym_train = np.array(ym_train)\r\n",
        "\r\n",
        "x1_train = x1_train.reshape(20,1)\r\n",
        "x2_train = x2_train.reshape(20,1)\r\n",
        "ym_train = ym_train.reshape(20,1)\r\n",
        "\r\n",
        "xm_train = np.column_stack((x1_train, x2_train))"
      ],
      "execution_count": 12,
      "outputs": []
    },
    {
      "cell_type": "code",
      "metadata": {
        "colab": {
          "base_uri": "https://localhost:8080/"
        },
        "id": "8BAz2BarhjoI",
        "outputId": "48146f41-5f17-464c-e04d-0bb3d83237cb"
      },
      "source": [
        "xm_train"
      ],
      "execution_count": 13,
      "outputs": [
        {
          "output_type": "execute_result",
          "data": {
            "text/plain": [
              "array([[3.14159265, 1.88495559],\n",
              "       [1.88495559, 4.71238898],\n",
              "       [1.57079633, 0.31415927],\n",
              "       [4.39822972, 5.34070751],\n",
              "       [0.31415927, 5.02654825],\n",
              "       [1.88495559, 5.02654825],\n",
              "       [3.14159265, 0.        ],\n",
              "       [2.51327412, 3.76991118],\n",
              "       [2.51327412, 0.9424778 ],\n",
              "       [4.71238898, 3.14159265],\n",
              "       [6.28318531, 3.45575192],\n",
              "       [2.51327412, 1.88495559],\n",
              "       [2.82743339, 4.39822972],\n",
              "       [2.19911486, 4.71238898],\n",
              "       [1.57079633, 5.65486678],\n",
              "       [5.02654825, 4.71238898],\n",
              "       [3.76991118, 1.88495559],\n",
              "       [5.65486678, 1.25663706],\n",
              "       [2.19911486, 1.57079633],\n",
              "       [1.57079633, 3.14159265]])"
            ]
          },
          "metadata": {
            "tags": []
          },
          "execution_count": 13
        }
      ]
    },
    {
      "cell_type": "markdown",
      "metadata": {
        "id": "TWGLKs5qlAbI"
      },
      "source": [
        "### Testing Dataset"
      ]
    },
    {
      "cell_type": "code",
      "metadata": {
        "id": "4z3PgDXhl_6u"
      },
      "source": [
        "# Variable Declarations\r\n",
        "x1_test = []        # First Independent Variable\r\n",
        "x2_test = []             # Second Independent Variable\r\n",
        "ym_test = []              # Dependent Variable\r\n",
        "\r\n",
        "# Generation of Random Dataset. y = sin(x1) + sin(x2) \r\n",
        "for i in range(0,n):\r\n",
        "    x1=randrange(0,n+1)*2*math.pi/n\r\n",
        "    x2=randrange(0,n+1)*2*math.pi/n\r\n",
        "    x1_test.append(x1)\r\n",
        "    x2_test.append(x2)\r\n",
        "    ym_test.append((math.sin(x1) + math.sin(x2)))\r\n",
        "\r\n",
        "xm_test = np.column_stack((x1_train, x2_train))"
      ],
      "execution_count": 14,
      "outputs": []
    },
    {
      "cell_type": "code",
      "metadata": {
        "colab": {
          "base_uri": "https://localhost:8080/"
        },
        "id": "YVaGfuLJmgDV",
        "outputId": "e91271f8-f762-4175-f5e3-c44ecc257cec"
      },
      "source": [
        "xm_test"
      ],
      "execution_count": 15,
      "outputs": [
        {
          "output_type": "execute_result",
          "data": {
            "text/plain": [
              "array([[3.14159265, 1.88495559],\n",
              "       [1.88495559, 4.71238898],\n",
              "       [1.57079633, 0.31415927],\n",
              "       [4.39822972, 5.34070751],\n",
              "       [0.31415927, 5.02654825],\n",
              "       [1.88495559, 5.02654825],\n",
              "       [3.14159265, 0.        ],\n",
              "       [2.51327412, 3.76991118],\n",
              "       [2.51327412, 0.9424778 ],\n",
              "       [4.71238898, 3.14159265],\n",
              "       [6.28318531, 3.45575192],\n",
              "       [2.51327412, 1.88495559],\n",
              "       [2.82743339, 4.39822972],\n",
              "       [2.19911486, 4.71238898],\n",
              "       [1.57079633, 5.65486678],\n",
              "       [5.02654825, 4.71238898],\n",
              "       [3.76991118, 1.88495559],\n",
              "       [5.65486678, 1.25663706],\n",
              "       [2.19911486, 1.57079633],\n",
              "       [1.57079633, 3.14159265]])"
            ]
          },
          "metadata": {
            "tags": []
          },
          "execution_count": 15
        }
      ]
    },
    {
      "cell_type": "markdown",
      "metadata": {
        "id": "y0wqgAeHmtZz"
      },
      "source": [
        "### Fitting Model"
      ]
    },
    {
      "cell_type": "code",
      "metadata": {
        "colab": {
          "base_uri": "https://localhost:8080/"
        },
        "id": "yAPJzFGJkrNc",
        "outputId": "c67a35d5-4982-476b-981b-3d78b7183ae5"
      },
      "source": [
        "# Fitting Multiple Linear Regression to the Training Dataset\r\n",
        "from sklearn.linear_model import LinearRegression\r\n",
        "regressor = LinearRegression()\r\n",
        "regressor.fit(xm_train, ym_train)"
      ],
      "execution_count": 16,
      "outputs": [
        {
          "output_type": "execute_result",
          "data": {
            "text/plain": [
              "LinearRegression(copy_X=True, fit_intercept=True, n_jobs=None, normalize=False)"
            ]
          },
          "metadata": {
            "tags": []
          },
          "execution_count": 16
        }
      ]
    },
    {
      "cell_type": "code",
      "metadata": {
        "id": "EuY7LvB0nI2P"
      },
      "source": [
        "# Predicting the Test set results\r\n",
        "ym_pred = regressor.predict(xm_test)"
      ],
      "execution_count": 17,
      "outputs": []
    },
    {
      "cell_type": "code",
      "metadata": {
        "colab": {
          "base_uri": "https://localhost:8080/"
        },
        "id": "hhaLfFcrncLh",
        "outputId": "17106970-57ba-48de-989c-f5bd687f8fe1"
      },
      "source": [
        "# Mean Squared Error\r\n",
        "from sklearn.metrics import mean_squared_error\r\n",
        "mean_squared_error(ym_test, ym_pred)"
      ],
      "execution_count": 18,
      "outputs": [
        {
          "output_type": "execute_result",
          "data": {
            "text/plain": [
              "1.9308471493074908"
            ]
          },
          "metadata": {
            "tags": []
          },
          "execution_count": 18
        }
      ]
    },
    {
      "cell_type": "markdown",
      "metadata": {
        "id": "X4VtECu68E1e"
      },
      "source": [
        "## Polynomial Regression of Degree M"
      ]
    },
    {
      "cell_type": "code",
      "metadata": {
        "colab": {
          "base_uri": "https://localhost:8080/"
        },
        "id": "I7anyfMYlLqp",
        "outputId": "31aa5882-ab8f-4fe7-9929-8a7300728321"
      },
      "source": [
        "from sklearn.linear_model import LinearRegression\r\n",
        "lin_reg = LinearRegression()\r\n",
        "lin_reg.fit(x_train, y_train)"
      ],
      "execution_count": 19,
      "outputs": [
        {
          "output_type": "execute_result",
          "data": {
            "text/plain": [
              "LinearRegression(copy_X=True, fit_intercept=True, n_jobs=None, normalize=False)"
            ]
          },
          "metadata": {
            "tags": []
          },
          "execution_count": 19
        }
      ]
    },
    {
      "cell_type": "code",
      "metadata": {
        "colab": {
          "base_uri": "https://localhost:8080/"
        },
        "id": "KIy732JWs3Jo",
        "outputId": "ce0e9e01-9455-49ff-e8d8-4301c37017af"
      },
      "source": [
        "# Fitting Polynomial Regression to the dataset \r\n",
        "from sklearn.preprocessing import PolynomialFeatures\r\n",
        "poly_reg = PolynomialFeatures(degree=3)\r\n",
        "X_poly = poly_reg.fit_transform(x_train)\r\n",
        "lin_reg_2 = LinearRegression()\r\n",
        "lin_reg_2.fit(X_poly, y_train)"
      ],
      "execution_count": 20,
      "outputs": [
        {
          "output_type": "execute_result",
          "data": {
            "text/plain": [
              "LinearRegression(copy_X=True, fit_intercept=True, n_jobs=None, normalize=False)"
            ]
          },
          "metadata": {
            "tags": []
          },
          "execution_count": 20
        }
      ]
    },
    {
      "cell_type": "code",
      "metadata": {
        "id": "SpECjbY272I0"
      },
      "source": [
        "# poly.fit_transform(xpoints)"
      ],
      "execution_count": 21,
      "outputs": []
    },
    {
      "cell_type": "code",
      "metadata": {
        "colab": {
          "base_uri": "https://localhost:8080/",
          "height": 295
        },
        "id": "FWnlA34nvGAp",
        "outputId": "bb21b4da-0fcc-422b-fa35-b943b157ed71"
      },
      "source": [
        "# Visualising the Polynomial Regression results \r\n",
        "plt.scatter(x_train, y_train, color='red')\r\n",
        "plt.plot(x_train, lin_reg_2.predict(poly_reg.fit_transform(x_train)), color='green')\r\n",
        "plt.scatter(x_train, lin_reg_2.predict(poly_reg.fit_transform(x_train)), color='blue')\r\n",
        "plt.title('Polynomial Regression Result')\r\n",
        "plt.xlabel('x')\r\n",
        "plt.ylabel('sinx')\r\n",
        "plt.show()"
      ],
      "execution_count": 22,
      "outputs": [
        {
          "output_type": "display_data",
          "data": {
            "image/png": "[encoded data removed]",
            "text/plain": [
              "<Figure size 432x288 with 1 Axes>"
            ]
          },
          "metadata": {
            "tags": [],
            "needs_background": "light"
          }
        }
      ]
    },
    {
      "cell_type": "code",
      "metadata": {
        "colab": {
          "base_uri": "https://localhost:8080/"
        },
        "id": "bcn8tiEVGgAH",
        "outputId": "0db99c25-f2d0-44ff-9365-e1fcf5031cd4"
      },
      "source": [
        "mean_squared_error(y_train,lin_reg_2.predict(poly_reg.fit_transform(x_train)))"
      ],
      "execution_count": 24,
      "outputs": [
        {
          "output_type": "execute_result",
          "data": {
            "text/plain": [
              "0.4319454702409978"
            ]
          },
          "metadata": {
            "tags": []
          },
          "execution_count": 24
        }
      ]
    },
    {
      "cell_type": "markdown",
      "metadata": {
        "id": "2Ofim9ZO8PdM"
      },
      "source": [
        "## Ridge Regression"
      ]
    },
    {
      "cell_type": "code",
      "metadata": {
        "id": "OhEsxIkH8UYj"
      },
      "source": [
        "# Fitting Ridge Regression to the dataset \r\n",
        "from sklearn.linear_model import Ridge\r\n",
        "rr = Ridge(alpha=0.01)\r\n",
        "rr.fit(x_train, y_train) \r\n",
        "\r\n",
        "# Predicting the test set Results\r\n",
        "y_pred_rr= rr.predict(x_test)\r\n"
      ],
      "execution_count": 25,
      "outputs": []
    },
    {
      "cell_type": "code",
      "metadata": {
        "colab": {
          "base_uri": "https://localhost:8080/",
          "height": 295
        },
        "id": "ldvHf7jkHmJ4",
        "outputId": "08ab7583-96a4-4160-8367-dbcafe6ba244"
      },
      "source": [
        "# Visualising the Training set results\r\n",
        "plt.scatter(x_train, y_train, color = 'red')\r\n",
        "plt.plot(x_train, rr.predict(x_train), color = 'blue')\r\n",
        "plt.title('Ridge Regression')\r\n",
        "plt.xlabel('x')\r\n",
        "plt.ylabel('sin(x)')\r\n",
        "plt.show()"
      ],
      "execution_count": 26,
      "outputs": [
        {
          "output_type": "display_data",
          "data": {
            "image/png": "[encoded data removed]",
            "text/plain": [
              "<Figure size 432x288 with 1 Axes>"
            ]
          },
          "metadata": {
            "tags": [],
            "needs_background": "light"
          }
        }
      ]
    },
    {
      "cell_type": "code",
      "metadata": {
        "colab": {
          "base_uri": "https://localhost:8080/",
          "height": 295
        },
        "id": "J1VvyvT8H197",
        "outputId": "8094eac3-7532-4504-f533-a5ec201c358f"
      },
      "source": [
        "# Visualising the Testing set results\r\n",
        "plt.scatter(x_test, y_test, color = 'red')\r\n",
        "plt.plot(x_train, rr.predict(x_train), color = 'blue')\r\n",
        "plt.title('Ridge Regression')\r\n",
        "plt.xlabel('x')\r\n",
        "plt.ylabel('sin(x)')\r\n",
        "plt.show()"
      ],
      "execution_count": 27,
      "outputs": [
        {
          "output_type": "display_data",
          "data": {
            "image/png": "[encoded data removed]",
            "text/plain": [
              "<Figure size 432x288 with 1 Axes>"
            ]
          },
          "metadata": {
            "tags": [],
            "needs_background": "light"
          }
        }
      ]
    },
    {
      "cell_type": "code",
      "metadata": {
        "colab": {
          "base_uri": "https://localhost:8080/"
        },
        "id": "XvZm7gfvIFFl",
        "outputId": "d913d8d5-34b9-46fe-d7ce-feb953250fbf"
      },
      "source": [
        "# Mean Squared Error\r\n",
        "from sklearn.metrics import mean_squared_error\r\n",
        "mean_squared_error(y_test, y_pred_rr)"
      ],
      "execution_count": 28,
      "outputs": [
        {
          "output_type": "execute_result",
          "data": {
            "text/plain": [
              "0.3081967998491887"
            ]
          },
          "metadata": {
            "tags": []
          },
          "execution_count": 28
        }
      ]
    },
    {
      "cell_type": "markdown",
      "metadata": {
        "id": "4UO3SKm58U76"
      },
      "source": [
        "## LASSO Regression"
      ]
    },
    {
      "cell_type": "code",
      "metadata": {
        "id": "04ws7FY78ZWI"
      },
      "source": [
        "# Fitting LASSO Regression to the dataset \r\n",
        "from sklearn.linear_model import Lasso\r\n",
        "model_lasso = Lasso(alpha=0.01)\r\n",
        "model_lasso.fit(x_train, y_train) \r\n",
        "\r\n",
        "# Predicting the test set Results\r\n",
        "y_pred_lasso= model_lasso.predict(x_test)\r\n"
      ],
      "execution_count": 29,
      "outputs": []
    },
    {
      "cell_type": "code",
      "metadata": {
        "colab": {
          "base_uri": "https://localhost:8080/",
          "height": 295
        },
        "id": "OKsl3su-I2SQ",
        "outputId": "8ec00e6e-2e48-41fa-b6ac-58f3a5fdaf52"
      },
      "source": [
        "# Visualising the Training set results\r\n",
        "plt.scatter(x_train, y_train, color = 'red')\r\n",
        "plt.plot(x_train, model_lasso.predict(x_train), color = 'blue')\r\n",
        "plt.title('Lasso Regression')\r\n",
        "plt.xlabel('x')\r\n",
        "plt.ylabel('sin(x)')\r\n",
        "plt.show()"
      ],
      "execution_count": 30,
      "outputs": [
        {
          "output_type": "display_data",
          "data": {
            "image/png": "[encoded data removed]",
            "text/plain": [
              "<Figure size 432x288 with 1 Axes>"
            ]
          },
          "metadata": {
            "tags": [],
            "needs_background": "light"
          }
        }
      ]
    },
    {
      "cell_type": "code",
      "metadata": {
        "colab": {
          "base_uri": "https://localhost:8080/",
          "height": 295
        },
        "id": "uiWypJ5rJA6l",
        "outputId": "7026979e-d9d2-4171-b203-3cf29f965615"
      },
      "source": [
        "# Visualising the Testing set results\r\n",
        "plt.scatter(x_test, y_test, color = 'red')\r\n",
        "plt.plot(x_train, model_lasso.predict(x_train), color = 'blue')\r\n",
        "plt.title('Lasso Regression')\r\n",
        "plt.xlabel('x')\r\n",
        "plt.ylabel('sin(x)')\r\n",
        "plt.show()"
      ],
      "execution_count": 31,
      "outputs": [
        {
          "output_type": "display_data",
          "data": {
            "image/png": "[encoded data removed]",
            "text/plain": [
              "<Figure size 432x288 with 1 Axes>"
            ]
          },
          "metadata": {
            "tags": [],
            "needs_background": "light"
          }
        }
      ]
    },
    {
      "cell_type": "code",
      "metadata": {
        "colab": {
          "base_uri": "https://localhost:8080/"
        },
        "id": "q9pLiUI7JIN9",
        "outputId": "df4b8a34-ea69-4bbe-fd81-b8ff0b6aa5b0"
      },
      "source": [
        "# Mean Squared Error\r\n",
        "from sklearn.metrics import mean_squared_error\r\n",
        "mean_squared_error(y_test, y_pred_lasso)"
      ],
      "execution_count": 32,
      "outputs": [
        {
          "output_type": "execute_result",
          "data": {
            "text/plain": [
              "0.3056693388164232"
            ]
          },
          "metadata": {
            "tags": []
          },
          "execution_count": 32
        }
      ]
    },
    {
      "cell_type": "markdown",
      "metadata": {
        "id": "K5VwEdBq8ab_"
      },
      "source": [
        "## Elastic-Net Regression"
      ]
    },
    {
      "cell_type": "code",
      "metadata": {
        "id": "OlVOpMAy8frh"
      },
      "source": [
        "# Fitting ElasticNet Regression to the dataset\r\n",
        "from sklearn.linear_model import ElasticNet\r\n",
        "model_enet = ElasticNet(alpha = 0.01)\r\n",
        "model_enet.fit(x_train, y_train) \r\n",
        "\r\n",
        "# Predicting the test set Results\r\n",
        "y_pred_enet= model_enet.predict(x_test)"
      ],
      "execution_count": 33,
      "outputs": []
    },
    {
      "cell_type": "code",
      "metadata": {
        "colab": {
          "base_uri": "https://localhost:8080/",
          "height": 295
        },
        "id": "LbLm5eaeKb1t",
        "outputId": "f7213753-ad4f-4395-b5ae-a9d1d415e17c"
      },
      "source": [
        "# Visualising the Training set results\r\n",
        "plt.scatter(x_train, y_train, color = 'red')\r\n",
        "plt.plot(x_train, model_enet.predict(x_train), color = 'blue')\r\n",
        "plt.title('ElasticNet Regression')\r\n",
        "plt.xlabel('x')\r\n",
        "plt.ylabel('sin(x)')\r\n",
        "plt.show()"
      ],
      "execution_count": 34,
      "outputs": [
        {
          "output_type": "display_data",
          "data": {
            "image/png": "[encoded data removed]",
            "text/plain": [
              "<Figure size 432x288 with 1 Axes>"
            ]
          },
          "metadata": {
            "tags": [],
            "needs_background": "light"
          }
        }
      ]
    },
    {
      "cell_type": "code",
      "metadata": {
        "colab": {
          "base_uri": "https://localhost:8080/",
          "height": 295
        },
        "id": "qp_aE6AZKm1u",
        "outputId": "0ba54f88-3df5-439d-80c4-2fca499246f5"
      },
      "source": [
        "# Visualising the Testing set results\r\n",
        "plt.scatter(x_test, y_test, color = 'red')\r\n",
        "plt.plot(x_train, model_enet.predict(x_train), color = 'blue')\r\n",
        "plt.title('ElasticNet Regression')\r\n",
        "plt.xlabel('x')\r\n",
        "plt.ylabel('sin(x)')\r\n",
        "plt.show()"
      ],
      "execution_count": 35,
      "outputs": [
        {
          "output_type": "display_data",
          "data": {
            "image/png": "[encoded data removed]",
            "text/plain": [
              "<Figure size 432x288 with 1 Axes>"
            ]
          },
          "metadata": {
            "tags": [],
            "needs_background": "light"
          }
        }
      ]
    },
    {
      "cell_type": "code",
      "metadata": {
        "colab": {
          "base_uri": "https://localhost:8080/"
        },
        "id": "Kr1OsSmcKvOx",
        "outputId": "5cb53579-52e6-4244-b1d7-95496b94326f"
      },
      "source": [
        "# Mean Squared Error\r\n",
        "from sklearn.metrics import mean_squared_error\r\n",
        "mean_squared_error(y_test, y_pred_enet)"
      ],
      "execution_count": 36,
      "outputs": [
        {
          "output_type": "execute_result",
          "data": {
            "text/plain": [
              "0.30644293108068393"
            ]
          },
          "metadata": {
            "tags": []
          },
          "execution_count": 36
        }
      ]
    },
    {
      "cell_type": "markdown",
      "metadata": {
        "id": "lG5gtEEr8ggM"
      },
      "source": [
        "## Bridge Regression"
      ]
    },
    {
      "cell_type": "code",
      "metadata": {
        "id": "wbV5ooT98kmB"
      },
      "source": [
        ""
      ],
      "execution_count": null,
      "outputs": []
    }
  ]
}