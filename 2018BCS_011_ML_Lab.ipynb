{
  "nbformat": 4,
  "nbformat_minor": 0,
  "metadata": {
    "colab": {
      "name": "2018BCS-011-ML-Lab",
      "provenance": [],
      "authorship_tag": "ABX9TyPD5qU0wBNwze17UGWQwtVN",
      "include_colab_link": true
    },
    "kernelspec": {
      "name": "python3",
      "display_name": "Python 3"
    }
  },
  "cells": [
    {
      "cell_type": "markdown",
      "metadata": {
        "id": "view-in-github",
        "colab_type": "text"
      },
      "source": [
        "<a href=\"https://colab.research.google.com/github/anurag1504t/MachineLearning/blob/main/2018BCS_011_ML_Lab.ipynb\" target=\"_parent\"><img src=\"https://colab.research.google.com/assets/colab-badge.svg\" alt=\"Open In Colab\"/></a>"
      ]
    },
    {
      "cell_type": "markdown",
      "metadata": {
        "id": "m-3nehHoFdYF"
      },
      "source": [
        "# ML Lab Assignment - 1"
      ]
    },
    {
      "cell_type": "code",
      "metadata": {
        "id": "f56eCHZSd_iq"
      },
      "source": [
        "# Several helpful packages to load in \r\n",
        "import numpy as np;\r\n",
        "import matplotlib.pyplot as plt;\r\n",
        "import math;\r\n",
        "from random import randrange\r\n",
        "\r\n",
        "# Global variables\r\n",
        "n=20;             # No of points in Dataset\r\n",
        "x_train=[];       # Independent \r\n",
        "y_train=[];       # Dependent"
      ],
      "execution_count": 1,
      "outputs": []
    },
    {
      "cell_type": "markdown",
      "metadata": {
        "id": "Zc55mm87F67V"
      },
      "source": [
        "## Training Dataset"
      ]
    },
    {
      "cell_type": "code",
      "metadata": {
        "colab": {
          "base_uri": "https://localhost:8080/"
        },
        "id": "IA8Z560-0DSG",
        "outputId": "f3acfc0f-4655-40bf-c545-0e5fb90a1463"
      },
      "source": [
        "# Gaussian Noise Generation\r\n",
        "noise=np.random.normal(0,1,n);\r\n",
        "print(noise)"
      ],
      "execution_count": 2,
      "outputs": [
        {
          "output_type": "stream",
          "text": [
            "[-0.23333416 -0.95206212 -2.21409956  0.90937334  0.33862167  0.34993017\n",
            "  0.87160036 -2.29628887 -1.03492361 -1.68075493 -0.38903511  1.44112895\n",
            " -0.08735592  0.29943517  0.10120886 -1.25784659 -2.00487066 -0.66846917\n",
            "  1.14404258  0.00710107]\n"
          ],
          "name": "stdout"
        }
      ]
    },
    {
      "cell_type": "code",
      "metadata": {
        "id": "rmb9SgiX0WPN"
      },
      "source": [
        "# Generation of Random Dataset. y = sin(x) + noise\r\n",
        "for i in range(0,n):\r\n",
        "    x=randrange(0,n+1)*2*math.pi/n;\r\n",
        "    x_train.append(x);\r\n",
        "    y_train.append((math.sin(x)+noise[i]));\r\n",
        "\r\n",
        "x_train = np.array(x_train)\r\n",
        "y_train = np.array(y_train)\r\n",
        "\r\n",
        "x_train = x_train.reshape(20,1)\r\n",
        "y_train = y_train.reshape(20,1)"
      ],
      "execution_count": 3,
      "outputs": []
    },
    {
      "cell_type": "code",
      "metadata": {
        "colab": {
          "base_uri": "https://localhost:8080/"
        },
        "id": "Cc3XjJXs1bQS",
        "outputId": "f04c58c0-a30e-4046-cc2b-996470ca28aa"
      },
      "source": [
        "print('Randomly Generated Dataset with 20 points')\r\n",
        "print('X | Y');\r\n",
        "for i in range(0,n):\r\n",
        "  print(x_train[i] , ' | ' , y_train[i]);"
      ],
      "execution_count": 4,
      "outputs": [
        {
          "output_type": "stream",
          "text": [
            "Randomly Generated Dataset with 20 points\n",
            "X | Y\n",
            "[0.62831853]  |  [0.35445109]\n",
            "[5.02654825]  |  [-1.90311864]\n",
            "[0.31415927]  |  [-1.90508257]\n",
            "[5.65486678]  |  [0.32158808]\n",
            "[0.31415927]  |  [0.64763867]\n",
            "[5.34070751]  |  [-0.45908683]\n",
            "[4.71238898]  |  [-0.12839964]\n",
            "[2.51327412]  |  [-1.70850361]\n",
            "[0.62831853]  |  [-0.44713836]\n",
            "[2.51327412]  |  [-1.09296968]\n",
            "[0.62831853]  |  [0.19875014]\n",
            "[6.28318531]  |  [1.44112895]\n",
            "[4.08407045]  |  [-0.89637292]\n",
            "[4.39822972]  |  [-0.65162135]\n",
            "[2.51327412]  |  [0.68899412]\n",
            "[5.96902604]  |  [-1.56686359]\n",
            "[5.96902604]  |  [-2.31388766]\n",
            "[0.62831853]  |  [-0.08068392]\n",
            "[6.28318531]  |  [1.14404258]\n",
            "[0.31415927]  |  [0.31611807]\n"
          ],
          "name": "stdout"
        }
      ]
    },
    {
      "cell_type": "code",
      "metadata": {
        "colab": {
          "base_uri": "https://localhost:8080/",
          "height": 295
        },
        "id": "odIKlMiz2jiM",
        "outputId": "af84c1fe-d441-4f36-c6fb-9076062407ab"
      },
      "source": [
        "# Plot of Dataset\r\n",
        "plt.plot(x_train,y_train,'bo');\r\n",
        "plt.xlabel('x [0, 2*pi]');\r\n",
        "plt.ylabel('y = sin(x) + noise');\r\n",
        "plt.title('Training Dataset');\r\n",
        "plt.show()"
      ],
      "execution_count": 5,
      "outputs": [
        {
          "output_type": "display_data",
          "data": {
            "image/png": "[encoded data removed]",
            "text/plain": [
              "<Figure size 432x288 with 1 Axes>"
            ]
          },
          "metadata": {
            "tags": [],
            "needs_background": "light"
          }
        }
      ]
    },
    {
      "cell_type": "markdown",
      "metadata": {
        "id": "9n3bQPARzVgk"
      },
      "source": [
        "## Testing Dataset"
      ]
    },
    {
      "cell_type": "code",
      "metadata": {
        "id": "AwOmmOAszU6u"
      },
      "source": [
        "# Variables\r\n",
        "x_test = []\r\n",
        "y_test = []\r\n",
        "\r\n",
        "# Generation of Random Dataset. y = sin(x) \r\n",
        "for i in range(0,n):\r\n",
        "    x=randrange(0,n+1)*2*math.pi/n;\r\n",
        "    x_test.append(x);\r\n",
        "    y_test.append(math.sin(x));\r\n",
        "\r\n",
        "x_test = np.array(x_test)\r\n",
        "y_test = np.array(y_test)\r\n",
        "\r\n",
        "x_test = x_test.reshape(20,1)\r\n",
        "y_test = y_test.reshape(20,1)"
      ],
      "execution_count": 6,
      "outputs": []
    },
    {
      "cell_type": "code",
      "metadata": {
        "colab": {
          "base_uri": "https://localhost:8080/",
          "height": 295
        },
        "id": "Xzv4c5Pn0LvY",
        "outputId": "76d44623-e6cc-4561-aa20-38acc232142e"
      },
      "source": [
        "# Plot of Testing Dataset\r\n",
        "plt.plot(x_test,y_test,'bo');\r\n",
        "plt.xlabel('x 0 to 2*pi');\r\n",
        "plt.ylabel('y = sin(x)');\r\n",
        "plt.title('Testing dataset');\r\n",
        "plt.show()"
      ],
      "execution_count": 7,
      "outputs": [
        {
          "output_type": "display_data",
          "data": {
            "image/png": "[encoded data removed]",
            "text/plain": [
              "<Figure size 432x288 with 1 Axes>"
            ]
          },
          "metadata": {
            "tags": [],
            "needs_background": "light"
          }
        }
      ]
    },
    {
      "cell_type": "markdown",
      "metadata": {
        "id": "JblqPvmb0cDz"
      },
      "source": [
        "## Simple Linear Regression\r\n",
        "\r\n"
      ]
    },
    {
      "cell_type": "code",
      "metadata": {
        "id": "qOmU4Gz60j5a"
      },
      "source": [
        "# Fitting Simple Linear Regression to the Training Dataset\r\n",
        "from sklearn.linear_model import LinearRegression\r\n",
        "regressor = LinearRegression()\r\n",
        "regressor.fit(x_train, y_train)\r\n",
        "\r\n",
        "# Predicting the Test set results\r\n",
        "y_pred = regressor.predict(x_test)"
      ],
      "execution_count": 8,
      "outputs": []
    },
    {
      "cell_type": "code",
      "metadata": {
        "colab": {
          "base_uri": "https://localhost:8080/",
          "height": 295
        },
        "id": "Ygc3ggbkgQ2s",
        "outputId": "0d71031e-f01d-4955-da9c-f59d1d78f92c"
      },
      "source": [
        "# Visualising the Training set results\r\n",
        "plt.scatter(x_train, y_train, color = 'red')\r\n",
        "plt.plot(x_train, regressor.predict(x_train), color = 'blue')\r\n",
        "plt.title(' sin(x) Vs x')\r\n",
        "plt.xlabel('x')\r\n",
        "plt.ylabel('sin(x)')\r\n",
        "plt.show()"
      ],
      "execution_count": 9,
      "outputs": [
        {
          "output_type": "display_data",
          "data": {
            "image/png": "[encoded data removed]",
            "text/plain": [
              "<Figure size 432x288 with 1 Axes>"
            ]
          },
          "metadata": {
            "tags": [],
            "needs_background": "light"
          }
        }
      ]
    },
    {
      "cell_type": "code",
      "metadata": {
        "colab": {
          "base_uri": "https://localhost:8080/",
          "height": 295
        },
        "id": "cExOvcV3g9-L",
        "outputId": "44f1d105-f190-412c-ac95-7b72639bd7af"
      },
      "source": [
        "# Visualising the Test set results\r\n",
        "plt.scatter(x_test, y_test, color = 'red')\r\n",
        "plt.plot(x_train, regressor.predict(x_train), color = 'blue')\r\n",
        "plt.title(' sin(x) Vs x')\r\n",
        "plt.xlabel('x')\r\n",
        "plt.ylabel('sin(x)')\r\n",
        "plt.show()"
      ],
      "execution_count": 10,
      "outputs": [
        {
          "output_type": "display_data",
          "data": {
            "image/png": "[encoded data removed]",
            "text/plain": [
              "<Figure size 432x288 with 1 Axes>"
            ]
          },
          "metadata": {
            "tags": [],
            "needs_background": "light"
          }
        }
      ]
    },
    {
      "cell_type": "code",
      "metadata": {
        "colab": {
          "base_uri": "https://localhost:8080/"
        },
        "id": "dl8aTyMa60Mo",
        "outputId": "08a8cce7-3be5-4208-c39d-febd0a3499da"
      },
      "source": [
        "# Mean Squared Error\r\n",
        "from sklearn.metrics import mean_squared_error\r\n",
        "mean_squared_error(y_test, y_pred)"
      ],
      "execution_count": 11,
      "outputs": [
        {
          "output_type": "execute_result",
          "data": {
            "text/plain": [
              "0.44543224890355815"
            ]
          },
          "metadata": {
            "tags": []
          },
          "execution_count": 11
        }
      ]
    },
    {
      "cell_type": "markdown",
      "metadata": {
        "id": "ZU8QGae079Fi"
      },
      "source": [
        "## Multiple Linear Regression"
      ]
    },
    {
      "cell_type": "markdown",
      "metadata": {
        "id": "pJZf2Qpdk6oE"
      },
      "source": [
        "### Training Data"
      ]
    },
    {
      "cell_type": "code",
      "metadata": {
        "id": "D_hozj7Y8Dpz"
      },
      "source": [
        "# Variable Declarations\r\n",
        "x1_train = []        # First Independent Variable\r\n",
        "x2_train = []             # Second Independent Variable\r\n",
        "ym_train = []              # Dependent Variable\r\n",
        "\r\n",
        "# Generation of Random Dataset. y = sin(x1) + sin(x2) + noise\r\n",
        "for i in range(0,n):\r\n",
        "    x1=randrange(0,n+1)*2*math.pi/n\r\n",
        "    x2=randrange(0,n+1)*2*math.pi/n\r\n",
        "    x1_train.append(x1);\r\n",
        "    x2_train.append(x2);\r\n",
        "    ym_train.append((math.sin(x1) + math.sin(x2) + noise[i]));\r\n",
        "\r\n",
        "x1_train = np.array(x1_train)\r\n",
        "x2_train = np.array(x2_train)\r\n",
        "ym_train = np.array(ym_train)\r\n",
        "\r\n",
        "x1_train = x1_train.reshape(20,1)\r\n",
        "x2_train = x2_train.reshape(20,1)\r\n",
        "ym_train = ym_train.reshape(20,1)\r\n",
        "\r\n",
        "xm_train = np.column_stack((x1_train, x2_train))"
      ],
      "execution_count": 12,
      "outputs": []
    },
    {
      "cell_type": "code",
      "metadata": {
        "colab": {
          "base_uri": "https://localhost:8080/"
        },
        "id": "8BAz2BarhjoI",
        "outputId": "dd647d6c-b97f-4c41-953a-67df78e3237a"
      },
      "source": [
        "xm_train"
      ],
      "execution_count": 13,
      "outputs": [
        {
          "output_type": "execute_result",
          "data": {
            "text/plain": [
              "array([[3.14159265, 0.62831853],\n",
              "       [0.31415927, 0.        ],\n",
              "       [2.82743339, 5.96902604],\n",
              "       [3.76991118, 3.45575192],\n",
              "       [3.45575192, 4.71238898],\n",
              "       [5.65486678, 4.08407045],\n",
              "       [6.28318531, 5.02654825],\n",
              "       [4.71238898, 2.82743339],\n",
              "       [2.19911486, 3.76991118],\n",
              "       [6.28318531, 2.82743339],\n",
              "       [0.31415927, 4.71238898],\n",
              "       [4.71238898, 2.82743339],\n",
              "       [0.9424778 , 5.96902604],\n",
              "       [4.08407045, 1.25663706],\n",
              "       [2.51327412, 5.02654825],\n",
              "       [5.96902604, 5.65486678],\n",
              "       [3.14159265, 2.82743339],\n",
              "       [3.76991118, 5.96902604],\n",
              "       [0.31415927, 1.88495559],\n",
              "       [0.9424778 , 3.14159265]])"
            ]
          },
          "metadata": {
            "tags": []
          },
          "execution_count": 13
        }
      ]
    },
    {
      "cell_type": "code",
      "metadata": {
        "colab": {
          "base_uri": "https://localhost:8080/",
          "height": 0
        },
        "id": "a5fY0xvCk4sk",
        "outputId": "ed71295a-aff5-43fc-8b5b-8a42eed96a8d"
      },
      "source": [
        "# Plot of Training Dataset\r\n",
        "plt.plot(x2_train,ym_train,'bo');\r\n",
        "plt.xlabel('x = [0,2π]');\r\n",
        "plt.ylabel('y = sin(x) + noise');\r\n",
        "plt.title('Training dataset2');\r\n",
        "plt.show()"
      ],
      "execution_count": 14,
      "outputs": [
        {
          "output_type": "display_data",
          "data": {
            "image/png": "[encoded data removed]",
            "text/plain": [
              "<Figure size 432x288 with 1 Axes>"
            ]
          },
          "metadata": {
            "tags": [],
            "needs_background": "light"
          }
        }
      ]
    },
    {
      "cell_type": "markdown",
      "metadata": {
        "id": "TWGLKs5qlAbI"
      },
      "source": [
        "### Testing Dataset"
      ]
    },
    {
      "cell_type": "code",
      "metadata": {
        "id": "4z3PgDXhl_6u"
      },
      "source": [
        "# Variable Declarations\r\n",
        "x1_test = []        # First Independent Variable\r\n",
        "x2_test = []             # Second Independent Variable\r\n",
        "ym_test = []              # Dependent Variable\r\n",
        "\r\n",
        "# Generation of Random Dataset. y = sin(x1) + sin(x2) \r\n",
        "for i in range(0,n):\r\n",
        "    x1=randrange(0,n+1)*2*math.pi/n\r\n",
        "    x2=randrange(0,n+1)*2*math.pi/n\r\n",
        "    x1_test.append(x1)\r\n",
        "    x2_test.append(x2)\r\n",
        "    ym_test.append((math.sin(x1) + math.sin(x2)))\r\n",
        "\r\n",
        "xm_test = np.column_stack((x1_test, x2_test))"
      ],
      "execution_count": 15,
      "outputs": []
    },
    {
      "cell_type": "code",
      "metadata": {
        "colab": {
          "base_uri": "https://localhost:8080/"
        },
        "id": "YVaGfuLJmgDV",
        "outputId": "4f304c85-f547-473d-a9e4-e51afc65e88d"
      },
      "source": [
        "xm_test"
      ],
      "execution_count": 16,
      "outputs": [
        {
          "output_type": "execute_result",
          "data": {
            "text/plain": [
              "array([[1.88495559, 4.08407045],\n",
              "       [1.88495559, 2.82743339],\n",
              "       [0.31415927, 1.25663706],\n",
              "       [6.28318531, 3.45575192],\n",
              "       [4.71238898, 1.88495559],\n",
              "       [5.34070751, 2.19911486],\n",
              "       [3.14159265, 5.34070751],\n",
              "       [2.82743339, 2.51327412],\n",
              "       [4.39822972, 6.28318531],\n",
              "       [5.34070751, 2.51327412],\n",
              "       [0.9424778 , 0.31415927],\n",
              "       [3.45575192, 1.57079633],\n",
              "       [3.45575192, 0.31415927],\n",
              "       [1.57079633, 0.62831853],\n",
              "       [6.28318531, 4.08407045],\n",
              "       [0.        , 4.71238898],\n",
              "       [4.39822972, 0.62831853],\n",
              "       [0.9424778 , 0.9424778 ],\n",
              "       [4.71238898, 5.65486678],\n",
              "       [5.34070751, 3.14159265]])"
            ]
          },
          "metadata": {
            "tags": []
          },
          "execution_count": 16
        }
      ]
    },
    {
      "cell_type": "markdown",
      "metadata": {
        "id": "y0wqgAeHmtZz"
      },
      "source": [
        "### Fitting Model"
      ]
    },
    {
      "cell_type": "code",
      "metadata": {
        "colab": {
          "base_uri": "https://localhost:8080/"
        },
        "id": "yAPJzFGJkrNc",
        "outputId": "0543498f-59af-4358-b2c6-a476fcfdd08d"
      },
      "source": [
        "# Fitting Multiple Linear Regression to the Training Dataset\r\n",
        "from sklearn.linear_model import LinearRegression\r\n",
        "regressor = LinearRegression()\r\n",
        "regressor.fit(xm_train, ym_train)"
      ],
      "execution_count": 17,
      "outputs": [
        {
          "output_type": "execute_result",
          "data": {
            "text/plain": [
              "LinearRegression(copy_X=True, fit_intercept=True, n_jobs=None, normalize=False)"
            ]
          },
          "metadata": {
            "tags": []
          },
          "execution_count": 17
        }
      ]
    },
    {
      "cell_type": "code",
      "metadata": {
        "id": "EuY7LvB0nI2P"
      },
      "source": [
        "# Predicting the Test set results\r\n",
        "ym_pred = regressor.predict(xm_test)"
      ],
      "execution_count": 18,
      "outputs": []
    },
    {
      "cell_type": "code",
      "metadata": {
        "colab": {
          "base_uri": "https://localhost:8080/"
        },
        "id": "hhaLfFcrncLh",
        "outputId": "6084b251-bf57-46f6-d729-11ae7635497f"
      },
      "source": [
        "# Mean Squared Error\r\n",
        "from sklearn.metrics import mean_squared_error\r\n",
        "mean_squared_error(ym_test, ym_pred)"
      ],
      "execution_count": 19,
      "outputs": [
        {
          "output_type": "execute_result",
          "data": {
            "text/plain": [
              "0.5430314674839234"
            ]
          },
          "metadata": {
            "tags": []
          },
          "execution_count": 19
        }
      ]
    },
    {
      "cell_type": "markdown",
      "metadata": {
        "id": "X4VtECu68E1e"
      },
      "source": [
        "## Polynomial Regression of Degree M"
      ]
    },
    {
      "cell_type": "code",
      "metadata": {
        "colab": {
          "base_uri": "https://localhost:8080/"
        },
        "id": "I7anyfMYlLqp",
        "outputId": "6f3be2d8-d79e-41bb-a6f0-0baeedce8552"
      },
      "source": [
        "from sklearn.linear_model import LinearRegression\r\n",
        "lin_reg = LinearRegression()\r\n",
        "lin_reg.fit(x_train, y_train)"
      ],
      "execution_count": 20,
      "outputs": [
        {
          "output_type": "execute_result",
          "data": {
            "text/plain": [
              "LinearRegression(copy_X=True, fit_intercept=True, n_jobs=None, normalize=False)"
            ]
          },
          "metadata": {
            "tags": []
          },
          "execution_count": 20
        }
      ]
    },
    {
      "cell_type": "code",
      "metadata": {
        "id": "KIy732JWs3Jo"
      },
      "source": [
        "# Fitting Polynomial Regression to the dataset \r\n",
        "from sklearn.preprocessing import PolynomialFeatures\r\n",
        "poly_reg = PolynomialFeatures(degree=4)\r\n",
        "X_poly = poly_reg.fit_transform(x_train)\r\n",
        "lin_reg_2 = LinearRegression()\r\n",
        "lin_reg_2.fit(X_poly, y_train)\r\n",
        "\r\n",
        "# Predicting the test set Results\r\n",
        "y_pred_poly= lin_reg_2.predict(poly_reg.fit_transform(x_test))"
      ],
      "execution_count": 43,
      "outputs": []
    },
    {
      "cell_type": "code",
      "metadata": {
        "colab": {
          "base_uri": "https://localhost:8080/",
          "height": 295
        },
        "id": "FWnlA34nvGAp",
        "outputId": "9fa48918-e577-4f62-a717-d963f28c583b"
      },
      "source": [
        "# Visualising the Polynomial Regression results \r\n",
        "plt.scatter(x_train, y_train, color='red')\r\n",
        "# plt.plot(x_train, lin_reg_2.predict(poly_reg.fit_transform(x_train)), color='green', linestyle='--',linewidth =2)\r\n",
        "plt.scatter(x_train, lin_reg_2.predict(poly_reg.fit_transform(x_train)), color='blue')\r\n",
        "plt.title('Polynomial Regression Result')\r\n",
        "plt.xlabel('x')\r\n",
        "plt.ylabel('sinx')\r\n",
        "plt.show()"
      ],
      "execution_count": 44,
      "outputs": [
        {
          "output_type": "display_data",
          "data": {
            "image/png": "[encoded data removed]",
            "text/plain": [
              "<Figure size 432x288 with 1 Axes>"
            ]
          },
          "metadata": {
            "tags": [],
            "needs_background": "light"
          }
        }
      ]
    },
    {
      "cell_type": "code",
      "metadata": {
        "colab": {
          "base_uri": "https://localhost:8080/"
        },
        "id": "bcn8tiEVGgAH",
        "outputId": "b8c1838a-5eb2-43bc-b6f1-83d00892b329"
      },
      "source": [
        "mean_squared_error(y_test, y_pred_poly)"
      ],
      "execution_count": 45,
      "outputs": [
        {
          "output_type": "execute_result",
          "data": {
            "text/plain": [
              "0.4940310997227059"
            ]
          },
          "metadata": {
            "tags": []
          },
          "execution_count": 45
        }
      ]
    },
    {
      "cell_type": "markdown",
      "metadata": {
        "id": "2Ofim9ZO8PdM"
      },
      "source": [
        "## Ridge Regression"
      ]
    },
    {
      "cell_type": "code",
      "metadata": {
        "id": "OhEsxIkH8UYj"
      },
      "source": [
        "# Fitting Ridge Regression to the dataset \r\n",
        "from sklearn.linear_model import Ridge\r\n",
        "rr = Ridge(alpha=0.01)\r\n",
        "rr.fit(x_train, y_train) \r\n",
        "\r\n",
        "# Predicting the test set Results\r\n",
        "y_pred_rr= rr.predict(x_test)\r\n"
      ],
      "execution_count": 24,
      "outputs": []
    },
    {
      "cell_type": "code",
      "metadata": {
        "colab": {
          "base_uri": "https://localhost:8080/",
          "height": 295
        },
        "id": "ldvHf7jkHmJ4",
        "outputId": "bdd7fd1f-3102-4572-aa50-b509e0de1834"
      },
      "source": [
        "# Visualising the Training set results\r\n",
        "plt.scatter(x_train, y_train, color = 'red')\r\n",
        "plt.plot(x_train, rr.predict(x_train), color = 'blue')\r\n",
        "plt.title('Ridge Regression')\r\n",
        "plt.xlabel('x')\r\n",
        "plt.ylabel('sin(x)')\r\n",
        "plt.show()"
      ],
      "execution_count": 25,
      "outputs": [
        {
          "output_type": "display_data",
          "data": {
            "image/png": "[encoded data removed]",
            "text/plain": [
              "<Figure size 432x288 with 1 Axes>"
            ]
          },
          "metadata": {
            "tags": [],
            "needs_background": "light"
          }
        }
      ]
    },
    {
      "cell_type": "code",
      "metadata": {
        "colab": {
          "base_uri": "https://localhost:8080/",
          "height": 295
        },
        "id": "J1VvyvT8H197",
        "outputId": "b8c7a06d-2da1-49a2-8413-60c9d44c8a20"
      },
      "source": [
        "# Visualising the Testing set results\r\n",
        "plt.scatter(x_test, y_test, color = 'red')\r\n",
        "plt.plot(x_train, rr.predict(x_train), color = 'blue')\r\n",
        "plt.title('Ridge Regression')\r\n",
        "plt.xlabel('x')\r\n",
        "plt.ylabel('sin(x)')\r\n",
        "plt.show()"
      ],
      "execution_count": 26,
      "outputs": [
        {
          "output_type": "display_data",
          "data": {
            "image/png": "[encoded data removed]",
            "text/plain": [
              "<Figure size 432x288 with 1 Axes>"
            ]
          },
          "metadata": {
            "tags": [],
            "needs_background": "light"
          }
        }
      ]
    },
    {
      "cell_type": "code",
      "metadata": {
        "colab": {
          "base_uri": "https://localhost:8080/"
        },
        "id": "XvZm7gfvIFFl",
        "outputId": "4f6b27b0-d462-4a1a-9b23-3b5c2586c6ca"
      },
      "source": [
        "# Mean Squared Error\r\n",
        "from sklearn.metrics import mean_squared_error\r\n",
        "mean_squared_error(y_test, y_pred_rr)"
      ],
      "execution_count": 27,
      "outputs": [
        {
          "output_type": "execute_result",
          "data": {
            "text/plain": [
              "0.44543583212298216"
            ]
          },
          "metadata": {
            "tags": []
          },
          "execution_count": 27
        }
      ]
    },
    {
      "cell_type": "markdown",
      "metadata": {
        "id": "4UO3SKm58U76"
      },
      "source": [
        "## LASSO Regression"
      ]
    },
    {
      "cell_type": "code",
      "metadata": {
        "id": "04ws7FY78ZWI"
      },
      "source": [
        "# Fitting LASSO Regression to the dataset \r\n",
        "from sklearn.linear_model import Lasso\r\n",
        "model_lasso = Lasso(alpha=0.01)\r\n",
        "model_lasso.fit(x_train, y_train) \r\n",
        "\r\n",
        "# Predicting the test set Results\r\n",
        "y_pred_lasso= model_lasso.predict(x_test)\r\n"
      ],
      "execution_count": 28,
      "outputs": []
    },
    {
      "cell_type": "code",
      "metadata": {
        "colab": {
          "base_uri": "https://localhost:8080/",
          "height": 0
        },
        "id": "OKsl3su-I2SQ",
        "outputId": "a3d88af9-2106-442a-c615-e9a2a932320e"
      },
      "source": [
        "# Visualising the Training set results\r\n",
        "plt.scatter(x_train, y_train, color = 'red')\r\n",
        "plt.plot(x_train, model_lasso.predict(x_train), color = 'blue')\r\n",
        "plt.title('Lasso Regression')\r\n",
        "plt.xlabel('x')\r\n",
        "plt.ylabel('sin(x)')\r\n",
        "plt.show()"
      ],
      "execution_count": 29,
      "outputs": [
        {
          "output_type": "display_data",
          "data": {
            "image/png": "[encoded data removed]",
            "text/plain": [
              "<Figure size 432x288 with 1 Axes>"
            ]
          },
          "metadata": {
            "tags": [],
            "needs_background": "light"
          }
        }
      ]
    },
    {
      "cell_type": "code",
      "metadata": {
        "colab": {
          "base_uri": "https://localhost:8080/",
          "height": 0
        },
        "id": "uiWypJ5rJA6l",
        "outputId": "e602b305-dc36-47fb-b92b-7addd6c2b552"
      },
      "source": [
        "# Visualising the Testing set results\r\n",
        "plt.scatter(x_test, y_test, color = 'red')\r\n",
        "plt.plot(x_train, model_lasso.predict(x_train), color = 'blue')\r\n",
        "plt.title('Lasso Regression')\r\n",
        "plt.xlabel('x')\r\n",
        "plt.ylabel('sin(x)')\r\n",
        "plt.show()"
      ],
      "execution_count": 30,
      "outputs": [
        {
          "output_type": "display_data",
          "data": {
            "image/png": "[encoded data removed]",
            "text/plain": [
              "<Figure size 432x288 with 1 Axes>"
            ]
          },
          "metadata": {
            "tags": [],
            "needs_background": "light"
          }
        }
      ]
    },
    {
      "cell_type": "code",
      "metadata": {
        "colab": {
          "base_uri": "https://localhost:8080/"
        },
        "id": "q9pLiUI7JIN9",
        "outputId": "1bb4d4f2-b7e3-4d99-8b2c-7d09ec34e806"
      },
      "source": [
        "# Mean Squared Error\r\n",
        "from sklearn.metrics import mean_squared_error\r\n",
        "mean_squared_error(y_test, y_pred_lasso)"
      ],
      "execution_count": 31,
      "outputs": [
        {
          "output_type": "execute_result",
          "data": {
            "text/plain": [
              "0.44742422779278"
            ]
          },
          "metadata": {
            "tags": []
          },
          "execution_count": 31
        }
      ]
    },
    {
      "cell_type": "markdown",
      "metadata": {
        "id": "K5VwEdBq8ab_"
      },
      "source": [
        "## Elastic-Net Regression"
      ]
    },
    {
      "cell_type": "code",
      "metadata": {
        "id": "OlVOpMAy8frh"
      },
      "source": [
        "# Fitting ElasticNet Regression to the dataset\r\n",
        "from sklearn.linear_model import ElasticNet\r\n",
        "model_enet = ElasticNet(alpha = 0.01)\r\n",
        "model_enet.fit(x_train, y_train) \r\n",
        "\r\n",
        "# Predicting the test set Results\r\n",
        "y_pred_enet= model_enet.predict(x_test)"
      ],
      "execution_count": 32,
      "outputs": []
    },
    {
      "cell_type": "code",
      "metadata": {
        "colab": {
          "base_uri": "https://localhost:8080/",
          "height": 0
        },
        "id": "LbLm5eaeKb1t",
        "outputId": "4df3a3d9-e665-4ab9-b73c-6a65e17ddad9"
      },
      "source": [
        "# Visualising the Training set results\r\n",
        "plt.scatter(x_train, y_train, color = 'red')\r\n",
        "plt.plot(x_train, model_enet.predict(x_train), color = 'blue')\r\n",
        "plt.title('ElasticNet Regression')\r\n",
        "plt.xlabel('x')\r\n",
        "plt.ylabel('sin(x)')\r\n",
        "plt.show()"
      ],
      "execution_count": 33,
      "outputs": [
        {
          "output_type": "display_data",
          "data": {
            "image/png": "[encoded data removed]",
            "text/plain": [
              "<Figure size 432x288 with 1 Axes>"
            ]
          },
          "metadata": {
            "tags": [],
            "needs_background": "light"
          }
        }
      ]
    },
    {
      "cell_type": "code",
      "metadata": {
        "colab": {
          "base_uri": "https://localhost:8080/",
          "height": 0
        },
        "id": "qp_aE6AZKm1u",
        "outputId": "ac2200c8-e5fd-4293-cbae-0f7a74f99d76"
      },
      "source": [
        "# Visualising the Testing set results\r\n",
        "plt.scatter(x_test, y_test, color = 'red')\r\n",
        "plt.plot(x_train, model_enet.predict(x_train), color = 'blue')\r\n",
        "plt.title('ElasticNet Regression')\r\n",
        "plt.xlabel('x')\r\n",
        "plt.ylabel('sin(x)')\r\n",
        "plt.show()"
      ],
      "execution_count": 34,
      "outputs": [
        {
          "output_type": "display_data",
          "data": {
            "image/png": "[encoded data removed]",
            "text/plain": [
              "<Figure size 432x288 with 1 Axes>"
            ]
          },
          "metadata": {
            "tags": [],
            "needs_background": "light"
          }
        }
      ]
    },
    {
      "cell_type": "code",
      "metadata": {
        "colab": {
          "base_uri": "https://localhost:8080/"
        },
        "id": "Kr1OsSmcKvOx",
        "outputId": "f60c8fc8-1171-4e9e-d2fb-0c2824553023"
      },
      "source": [
        "# Mean Squared Error\r\n",
        "from sklearn.metrics import mean_squared_error\r\n",
        "mean_squared_error(y_test, y_pred_enet)"
      ],
      "execution_count": 35,
      "outputs": [
        {
          "output_type": "execute_result",
          "data": {
            "text/plain": [
              "0.4464604691864583"
            ]
          },
          "metadata": {
            "tags": []
          },
          "execution_count": 35
        }
      ]
    },
    {
      "cell_type": "markdown",
      "metadata": {
        "id": "lG5gtEEr8ggM"
      },
      "source": [
        "## Bridge Regression"
      ]
    },
    {
      "cell_type": "code",
      "metadata": {
        "id": "wbV5ooT98kmB",
        "colab": {
          "base_uri": "https://localhost:8080/"
        },
        "outputId": "77dd846b-17a1-48d2-ebf2-48e1abaee670"
      },
      "source": [
        "# Fitting Bridge Regression to the dataset\r\n",
        "from sklearn.linear_model import BayesianRidge\r\n",
        "model_bridge = BayesianRidge() \r\n",
        "model_bridge.fit(x_train, y_train)\r\n",
        "\r\n",
        "# Predicting the test set Results\r\n",
        "y_pred_bridge = model_bridge.predict(x_test)"
      ],
      "execution_count": 36,
      "outputs": [
        {
          "output_type": "stream",
          "text": [
            "/usr/local/lib/python3.6/dist-packages/sklearn/utils/validation.py:760: DataConversionWarning: A column-vector y was passed when a 1d array was expected. Please change the shape of y to (n_samples, ), for example using ravel().\n",
            "  y = column_or_1d(y, warn=True)\n"
          ],
          "name": "stderr"
        }
      ]
    },
    {
      "cell_type": "code",
      "metadata": {
        "colab": {
          "base_uri": "https://localhost:8080/",
          "height": 295
        },
        "id": "-fIZ83zutLr0",
        "outputId": "d9c4f427-865a-4986-8dbe-b5c314a1c526"
      },
      "source": [
        "# Visualising the Training set results\r\n",
        "plt.scatter(x_train, y_train, color = 'red')\r\n",
        "plt.plot(x_train, model_bridge.predict(x_train), color = 'blue')\r\n",
        "plt.title('Bridge Regression')\r\n",
        "plt.xlabel('x')\r\n",
        "plt.ylabel('sin(x)')\r\n",
        "plt.show()"
      ],
      "execution_count": 37,
      "outputs": [
        {
          "output_type": "display_data",
          "data": {
            "image/png": "[encoded data removed]",
            "text/plain": [
              "<Figure size 432x288 with 1 Axes>"
            ]
          },
          "metadata": {
            "tags": [],
            "needs_background": "light"
          }
        }
      ]
    },
    {
      "cell_type": "code",
      "metadata": {
        "colab": {
          "base_uri": "https://localhost:8080/",
          "height": 295
        },
        "id": "Bc9n0PP-tTMY",
        "outputId": "338a6a85-0d7d-47be-f761-d4ae126a9058"
      },
      "source": [
        "# Visualising the Testing set results\r\n",
        "plt.scatter(x_test, y_test, color = 'red')\r\n",
        "plt.plot(x_train, model_bridge.predict(x_train), color = 'blue')\r\n",
        "plt.title('Bridge Regression')\r\n",
        "plt.xlabel('x')\r\n",
        "plt.ylabel('sin(x)')\r\n",
        "plt.show()"
      ],
      "execution_count": 38,
      "outputs": [
        {
          "output_type": "display_data",
          "data": {
            "image/png": "[encoded data removed]",
            "text/plain": [
              "<Figure size 432x288 with 1 Axes>"
            ]
          },
          "metadata": {
            "tags": [],
            "needs_background": "light"
          }
        }
      ]
    },
    {
      "cell_type": "code",
      "metadata": {
        "colab": {
          "base_uri": "https://localhost:8080/"
        },
        "id": "xErJ2GXQtgQN",
        "outputId": "fc614058-3226-4660-bb6d-68e27ee895f1"
      },
      "source": [
        "# Mean Squared Error\r\n",
        "from sklearn.metrics import mean_squared_error\r\n",
        "mean_squared_error(y_test, y_pred_bridge)"
      ],
      "execution_count": 39,
      "outputs": [
        {
          "output_type": "execute_result",
          "data": {
            "text/plain": [
              "0.4867540949888964"
            ]
          },
          "metadata": {
            "tags": []
          },
          "execution_count": 39
        }
      ]
    }
  ]
}